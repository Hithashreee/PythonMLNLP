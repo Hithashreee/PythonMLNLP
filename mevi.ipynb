{
  "nbformat": 4,
  "nbformat_minor": 0,
  "metadata": {
    "colab": {
      "provenance": [],
      "authorship_tag": "ABX9TyNCq8opVePlazzszf4WzE2i",
      "include_colab_link": true
    },
    "kernelspec": {
      "name": "python3",
      "display_name": "Python 3"
    },
    "language_info": {
      "name": "python"
    }
  },
  "cells": [
    {
      "cell_type": "markdown",
      "metadata": {
        "id": "view-in-github",
        "colab_type": "text"
      },
      "source": [
        "<a href=\"https://colab.research.google.com/github/Hithashreee/PythonMLNLP/blob/main/mevi.ipynb\" target=\"_parent\"><img src=\"https://colab.research.google.com/assets/colab-badge.svg\" alt=\"Open In Colab\"/></a>"
      ]
    },
    {
      "cell_type": "markdown",
      "source": [
        "DAY **1**"
      ],
      "metadata": {
        "id": "1Bd483kFP1w-"
      }
    },
    {
      "cell_type": "code",
      "execution_count": null,
      "metadata": {
        "colab": {
          "base_uri": "https://localhost:8080/"
        },
        "id": "GJTbZRifOivi",
        "outputId": "fb68c10d-ca35-4aea-a42f-9ccb32a8689d"
      },
      "outputs": [
        {
          "output_type": "stream",
          "name": "stdout",
          "text": [
            "Hello World\n"
          ]
        }
      ],
      "source": [
        "print(\"Hello World\")"
      ]
    },
    {
      "cell_type": "code",
      "source": [
        "print(ord('a'))\n",
        "print(bin(97))\n"
      ],
      "metadata": {
        "colab": {
          "base_uri": "https://localhost:8080/"
        },
        "id": "GjbfCjBAWcdT",
        "outputId": "dbdf007b-691d-4ee1-9c0a-a7ad4630fd8c"
      },
      "execution_count": null,
      "outputs": [
        {
          "output_type": "stream",
          "name": "stdout",
          "text": [
            "97\n",
            "0b1100001\n"
          ]
        }
      ]
    },
    {
      "cell_type": "code",
      "source": [
        "name=input(\"enter your name\")\n",
        "print('hello')"
      ],
      "metadata": {
        "colab": {
          "base_uri": "https://localhost:8080/"
        },
        "id": "fkPiob8oWj41",
        "outputId": "9ab405a5-ad70-492d-fd30-3080f7adb263"
      },
      "execution_count": null,
      "outputs": [
        {
          "output_type": "stream",
          "name": "stdout",
          "text": [
            "enter your namehitha\n",
            "hello\n"
          ]
        }
      ]
    },
    {
      "cell_type": "code",
      "source": [
        "import random\n",
        "r=random.randint(0,100)\n",
        "n1=input(\"enter your name \")\n",
        "n2=input (\"enter his or her name\")\n",
        "print('your love score is ',r,'%')"
      ],
      "metadata": {
        "colab": {
          "base_uri": "https://localhost:8080/"
        },
        "id": "8AcWty5UWwkz",
        "outputId": "cffeddca-17cd-4ef0-fa7d-7d528996183a"
      },
      "execution_count": null,
      "outputs": [
        {
          "output_type": "stream",
          "name": "stdout",
          "text": [
            "enter your name hitha\n",
            "enter his or her namemanish\n",
            "your love score is  93 %\n"
          ]
        }
      ]
    },
    {
      "cell_type": "code",
      "source": [
        "print('Ascii values->',ord('*'),ord ('P'),ord('V'),)\n",
        "print(bin(18),bin(21),)"
      ],
      "metadata": {
        "colab": {
          "base_uri": "https://localhost:8080/"
        },
        "id": "SY_Zv6ttcgM4",
        "outputId": "bb2c02ff-88ec-442e-84cf-48290671ac76"
      },
      "execution_count": null,
      "outputs": [
        {
          "output_type": "stream",
          "name": "stdout",
          "text": [
            "Ascii values-> 42 80 86\n",
            "0b10010 0b10101\n"
          ]
        }
      ]
    },
    {
      "cell_type": "code",
      "source": [
        "#addiction\n",
        "a=int(input('enter a'))\n",
        "print(type(a))\n",
        "b=int(input('enter b'))\n",
        "print(type(b))\n",
        "print(a+b)\n"
      ],
      "metadata": {
        "colab": {
          "base_uri": "https://localhost:8080/"
        },
        "id": "Sye8wnBcxmcy",
        "outputId": "9684bb2d-33a6-417a-b883-a355bbaec33c"
      },
      "execution_count": null,
      "outputs": [
        {
          "output_type": "stream",
          "name": "stdout",
          "text": [
            "enter a21\n",
            "<class 'int'>\n",
            "enter b18\n",
            "<class 'int'>\n",
            "39\n"
          ]
        }
      ]
    },
    {
      "cell_type": "code",
      "source": [
        "#string concate\n",
        "a=input('enter a')\n",
        "print(type(a))\n",
        "b=input('enter b')\n",
        "print(type(b))\n",
        "print(a+b)"
      ],
      "metadata": {
        "colab": {
          "base_uri": "https://localhost:8080/"
        },
        "id": "Ho40mYI0yfnp",
        "outputId": "80f087f0-da41-4183-fe8a-62d1e86066bb"
      },
      "execution_count": null,
      "outputs": [
        {
          "output_type": "stream",
          "name": "stdout",
          "text": [
            "enter a21\n",
            "<class 'str'>\n",
            "enter b18\n",
            "<class 'str'>\n",
            "2118\n"
          ]
        }
      ]
    },
    {
      "cell_type": "code",
      "source": [
        "# DATA TYPES\n",
        "#int\n",
        "a=10\n",
        "print(a,'Int')\n",
        "#float\n",
        "b=10.5\n",
        "print(b,'float')\n",
        "c='Hello'\n",
        "print(c,'string')\n",
        "b=True\n",
        "print(a,'Boolean')\n",
        "d='1+3j'"
      ],
      "metadata": {
        "id": "WnUBBRe5Z2lh",
        "colab": {
          "base_uri": "https://localhost:8080/"
        },
        "outputId": "d1b400f9-522d-4267-f342-f40607bc9851"
      },
      "execution_count": null,
      "outputs": [
        {
          "output_type": "stream",
          "name": "stdout",
          "text": [
            "10 Int\n",
            "10.5 float\n",
            "Hello string\n",
            "10 Boolean\n"
          ]
        }
      ]
    },
    {
      "cell_type": "code",
      "source": [
        "print('Ascii values ->', ord('*'),ord('M'),ord('E'),)"
      ],
      "metadata": {
        "colab": {
          "base_uri": "https://localhost:8080/"
        },
        "id": "HN_Xt6R6SnHJ",
        "outputId": "b97167c5-53fd-4fa0-81f1-0c7d90c1f329"
      },
      "execution_count": null,
      "outputs": [
        {
          "output_type": "stream",
          "name": "stdout",
          "text": [
            "Ascii values -> 42 77 69\n"
          ]
        }
      ]
    },
    {
      "cell_type": "markdown",
      "source": [
        "**DAY 2**"
      ],
      "metadata": {
        "id": "FFyT6tq5DRWK"
      }
    },
    {
      "cell_type": "code",
      "source": [
        "a=int(input('enter a'))\n",
        "print(type(a))\n",
        "b=int(input('enter b'))\n",
        "print(type(b))\n",
        "print(a+b)\n",
        "print(a-b)\n",
        "print(a*b)\n",
        "print(a//b)\n",
        "print(a**2)\n",
        "print(b**2)"
      ],
      "metadata": {
        "colab": {
          "base_uri": "https://localhost:8080/"
        },
        "id": "8DhePHUH-ohD",
        "outputId": "280ee83c-fe59-4f9d-ad33-327aac940bc4"
      },
      "execution_count": null,
      "outputs": [
        {
          "output_type": "stream",
          "name": "stdout",
          "text": [
            "enter a32\n",
            "<class 'int'>\n",
            "enter b14\n",
            "<class 'int'>\n",
            "46\n",
            "18\n",
            "448\n",
            "2\n",
            "1024\n",
            "196\n"
          ]
        }
      ]
    },
    {
      "cell_type": "code",
      "source": [
        "import math"
      ],
      "metadata": {
        "id": "9BSF4RaS_WNQ"
      },
      "execution_count": null,
      "outputs": []
    },
    {
      "cell_type": "code",
      "source": [
        "import math\n",
        "c=math.sqrt(18)\n",
        "c"
      ],
      "metadata": {
        "colab": {
          "base_uri": "https://localhost:8080/"
        },
        "id": "aBIns8pc_fGq",
        "outputId": "d67e1f9d-2c12-40b6-e8d8-372e41c6d983"
      },
      "execution_count": null,
      "outputs": [
        {
          "output_type": "execute_result",
          "data": {
            "text/plain": [
              "4.242640687119285"
            ]
          },
          "metadata": {},
          "execution_count": 3
        }
      ]
    },
    {
      "cell_type": "code",
      "source": [
        "gcd=math.gcd(18,21)\n",
        "gcd"
      ],
      "metadata": {
        "colab": {
          "base_uri": "https://localhost:8080/"
        },
        "id": "xbwZriTE_lbw",
        "outputId": "091a4fd8-ecbe-4abf-cf2b-1c2f1f79eec0"
      },
      "execution_count": null,
      "outputs": [
        {
          "output_type": "execute_result",
          "data": {
            "text/plain": [
              "3"
            ]
          },
          "metadata": {},
          "execution_count": 4
        }
      ]
    },
    {
      "cell_type": "code",
      "source": [
        "f=math.factorial(5)\n",
        "f"
      ],
      "metadata": {
        "colab": {
          "base_uri": "https://localhost:8080/"
        },
        "id": "WmsnNVND_s6U",
        "outputId": "c4bedc16-8c86-4696-bcf2-75b641d8e05d"
      },
      "execution_count": null,
      "outputs": [
        {
          "output_type": "execute_result",
          "data": {
            "text/plain": [
              "120"
            ]
          },
          "metadata": {},
          "execution_count": 5
        }
      ]
    },
    {
      "cell_type": "code",
      "source": [
        "for i in range (1,11):\n",
        "  print('inside',i)\n",
        "  print('outside')"
      ],
      "metadata": {
        "colab": {
          "base_uri": "https://localhost:8080/"
        },
        "id": "vuBLsqzi_zMy",
        "outputId": "b6cb9097-b594-4d38-c0fe-7e9c9e3d70a0"
      },
      "execution_count": null,
      "outputs": [
        {
          "output_type": "stream",
          "name": "stdout",
          "text": [
            "inside 1\n",
            "outside\n",
            "inside 2\n",
            "outside\n",
            "inside 3\n",
            "outside\n",
            "inside 4\n",
            "outside\n",
            "inside 5\n",
            "outside\n",
            "inside 6\n",
            "outside\n",
            "inside 7\n",
            "outside\n",
            "inside 8\n",
            "outside\n",
            "inside 9\n",
            "outside\n",
            "inside 10\n",
            "outside\n"
          ]
        }
      ]
    },
    {
      "cell_type": "code",
      "source": [
        "for i in range (1,10,2):\n",
        "  print(i)"
      ],
      "metadata": {
        "colab": {
          "base_uri": "https://localhost:8080/"
        },
        "id": "819n4JL___ws",
        "outputId": "a801ae36-c306-4162-ed91-ffe6fdf738fc"
      },
      "execution_count": null,
      "outputs": [
        {
          "output_type": "stream",
          "name": "stdout",
          "text": [
            "1\n",
            "3\n",
            "5\n",
            "7\n",
            "9\n"
          ]
        }
      ]
    },
    {
      "cell_type": "code",
      "source": [
        "for i in range (3,31,3):\n",
        "  print(i)"
      ],
      "metadata": {
        "colab": {
          "base_uri": "https://localhost:8080/"
        },
        "id": "BN1GrmmFAH8D",
        "outputId": "667e45d7-eb75-45aa-96cc-f0523c374c2a"
      },
      "execution_count": null,
      "outputs": [
        {
          "output_type": "stream",
          "name": "stdout",
          "text": [
            "3\n",
            "6\n",
            "9\n",
            "12\n",
            "15\n",
            "18\n",
            "21\n",
            "24\n",
            "27\n",
            "30\n"
          ]
        }
      ]
    },
    {
      "cell_type": "code",
      "source": [
        "i=int(input('enter a number'))\n",
        "for i in range(i,i*10,i):\n",
        "  print(i)"
      ],
      "metadata": {
        "colab": {
          "base_uri": "https://localhost:8080/"
        },
        "id": "uHsLClnBAQeh",
        "outputId": "05b048e5-5451-4f57-c022-82831fe4c8ae"
      },
      "execution_count": null,
      "outputs": [
        {
          "output_type": "stream",
          "name": "stdout",
          "text": [
            "enter a number5\n",
            "5\n",
            "10\n",
            "15\n",
            "20\n",
            "25\n",
            "30\n",
            "35\n",
            "40\n",
            "45\n"
          ]
        }
      ]
    },
    {
      "cell_type": "code",
      "source": [
        "i=int(input('enter a number'))\n",
        "for i in range(a,a*10,a):\n",
        "  print(a,'*',i//a,'=',i)"
      ],
      "metadata": {
        "colab": {
          "base_uri": "https://localhost:8080/"
        },
        "id": "puACc8QuAnL1",
        "outputId": "50ef3f2e-dc9f-4849-c8ae-f90e7b387029"
      },
      "execution_count": null,
      "outputs": [
        {
          "output_type": "stream",
          "name": "stdout",
          "text": [
            "enter a number5\n",
            "32 * 1 = 32\n",
            "32 * 2 = 64\n",
            "32 * 3 = 96\n",
            "32 * 4 = 128\n",
            "32 * 5 = 160\n",
            "32 * 6 = 192\n",
            "32 * 7 = 224\n",
            "32 * 8 = 256\n",
            "32 * 9 = 288\n"
          ]
        }
      ]
    },
    {
      "cell_type": "code",
      "source": [
        "age=int(input('enter the age'))\n",
        "if(age>=60):\n",
        "  print('can vote')\n",
        "elif(age>=18):\n",
        "  print('renew your card')\n",
        "else:\n",
        "  print('cant vote')"
      ],
      "metadata": {
        "colab": {
          "base_uri": "https://localhost:8080/"
        },
        "id": "E-AZ-vM8A1-k",
        "outputId": "7739d97f-26e0-40a0-80b3-758c53300725"
      },
      "execution_count": null,
      "outputs": [
        {
          "output_type": "stream",
          "name": "stdout",
          "text": [
            "enter the age70\n",
            "can vote\n"
          ]
        }
      ]
    },
    {
      "cell_type": "code",
      "source": [
        "n=0\n",
        "while(n<=5):\n",
        "  n=n+1\n",
        "  print(n)"
      ],
      "metadata": {
        "colab": {
          "base_uri": "https://localhost:8080/"
        },
        "id": "Nrg9TwlsBd3E",
        "outputId": "05dc701e-d349-4870-98d7-edad0b3be0b3"
      },
      "execution_count": null,
      "outputs": [
        {
          "output_type": "stream",
          "name": "stdout",
          "text": [
            "1\n",
            "2\n",
            "3\n",
            "4\n",
            "5\n",
            "6\n"
          ]
        }
      ]
    },
    {
      "cell_type": "code",
      "source": [
        "n=0\n",
        "while(n<=5):\n",
        "  print(n)\n",
        "  n=n+1"
      ],
      "metadata": {
        "colab": {
          "base_uri": "https://localhost:8080/"
        },
        "id": "USkBdBlvBpt9",
        "outputId": "155ed536-82c0-4751-83d5-678b31e32c51"
      },
      "execution_count": null,
      "outputs": [
        {
          "output_type": "stream",
          "name": "stdout",
          "text": [
            "0\n",
            "1\n",
            "2\n",
            "3\n",
            "4\n",
            "5\n"
          ]
        }
      ]
    },
    {
      "cell_type": "code",
      "source": [
        "print('welcome to union bank')\n",
        "mpin=2118\n",
        "n=0\n",
        "while(n<=3):\n",
        "  upin=int(input('enter your pin'))\n",
        "  if(upin==mpin):\n",
        "    print('successfully logged in')\n",
        "    break\n",
        "  elif(n==3):\n",
        "    print('sorry account blocks')\n",
        "  else:\n",
        "     print('invalid pin try again')\n",
        "  n=n+1 #n+=1"
      ],
      "metadata": {
        "colab": {
          "base_uri": "https://localhost:8080/"
        },
        "id": "2iKyq9znBvcM",
        "outputId": "720479a9-473c-4e81-d904-327f1efb043a"
      },
      "execution_count": null,
      "outputs": [
        {
          "output_type": "stream",
          "name": "stdout",
          "text": [
            "welcome to union bank\n",
            "enter your pin1244\n",
            "invalid pin try again\n",
            "enter your pin2118\n",
            "successfully logged in\n"
          ]
        }
      ]
    },
    {
      "cell_type": "code",
      "source": [
        "import random\n",
        "number=random.randint(0,10)\n",
        "while True:\n",
        "  guess=int(input('guess a number'))\n",
        "  if(number==guess):\n",
        "    print('you won')\n",
        "    break\n",
        "  elif(guess<number):\n",
        "    print('number guessed too low')\n",
        "  elif(guess>number):\n",
        "    print('number guessed too high')\n",
        "  else:\n",
        "    print('you lost')\n",
        "    break"
      ],
      "metadata": {
        "colab": {
          "base_uri": "https://localhost:8080/"
        },
        "id": "Od5qrdfREEKj",
        "outputId": "a34d5922-1f91-4afc-b85f-0cb9dc118fbc"
      },
      "execution_count": null,
      "outputs": [
        {
          "output_type": "stream",
          "name": "stdout",
          "text": [
            "guess a number5\n",
            "number guessed too low\n",
            "guess a number9\n",
            "number guessed too high\n",
            "guess a number7\n",
            "number guessed too high\n",
            "guess a number8\n",
            "number guessed too high\n",
            "guess a number6\n",
            "you won\n"
          ]
        }
      ]
    },
    {
      "cell_type": "markdown",
      "source": [
        "**DAY 3:**"
      ],
      "metadata": {
        "id": "QNopNNbdUXus"
      }
    },
    {
      "cell_type": "code",
      "source": [
        "# assignment operator\n",
        "a=0"
      ],
      "metadata": {
        "id": "swlWfg3ZTow2"
      },
      "execution_count": null,
      "outputs": []
    },
    {
      "cell_type": "code",
      "source": [
        "a=3\n",
        "a-=1 #a=a-1\n",
        "print(a)"
      ],
      "metadata": {
        "colab": {
          "base_uri": "https://localhost:8080/"
        },
        "id": "3PnDp4ldUwdV",
        "outputId": "45defdd2-ffed-4328-f5e3-27a075474aa9"
      },
      "execution_count": null,
      "outputs": [
        {
          "output_type": "stream",
          "name": "stdout",
          "text": [
            "2\n"
          ]
        }
      ]
    },
    {
      "cell_type": "code",
      "source": [
        "a+=1 #a=a+1\n",
        "a+=a #a=a+a\n",
        "print(a)"
      ],
      "metadata": {
        "colab": {
          "base_uri": "https://localhost:8080/"
        },
        "id": "Mo-N8HxoTTLH",
        "outputId": "419c02c7-4e0d-4116-b8e4-5caf4ec606c4"
      },
      "execution_count": null,
      "outputs": [
        {
          "output_type": "stream",
          "name": "stdout",
          "text": [
            "46\n"
          ]
        }
      ]
    },
    {
      "cell_type": "code",
      "source": [
        "a=3\n",
        "a*=a #a=a*a\n",
        "print (a)"
      ],
      "metadata": {
        "colab": {
          "base_uri": "https://localhost:8080/"
        },
        "id": "nfNlT3c9T4qW",
        "outputId": "a3144bbd-74a4-4dc1-d276-3024f5947001"
      },
      "execution_count": null,
      "outputs": [
        {
          "output_type": "stream",
          "name": "stdout",
          "text": [
            "9\n"
          ]
        }
      ]
    },
    {
      "cell_type": "code",
      "source": [
        "print ('Welcome to ICICI Bank')\n",
        "mpin='0606'\n",
        "bal=25000\n",
        "n=1\n",
        "while(n<=3):\n",
        "  upin=input ('Enter your pin')\n",
        "  if(len(upin)==4):\n",
        "    if(upin==mpin):\n",
        "      print ('successfully logged in')\n",
        "      s='''\n",
        "      -Operations-\n",
        "      1-Desposit\n",
        "      2-Withdraw\n",
        "      3-Checkbalance\n",
        "      '''\n",
        "      print(s)\n",
        "      ch=int(input('enter your choice'))\n",
        "      if(ch==1):\n",
        "        amt=int(input('how much amount you want to deposit'))\n",
        "        bal+=amt\n",
        "        print(f'{amt} has been deposited and your balance is {bal}')\n",
        "      elif(ch==2):\n",
        "        amt=int(input('how much amount you want to withdraw'))\n",
        "        bal-=amt\n",
        "        print(f'{amt} has been withdrawn and your balance is {bal}')\n",
        "      elif(ch==3):\n",
        "        print(f'{amt}check your balance ={bal}')\n",
        "\n",
        "\n",
        "      break\n",
        "    elif(n==3):\n",
        "      print('sorry account block')\n",
        "    else:\n",
        "      print('invalid pin')\n",
        "  else:\n",
        "    print('check the number of digits')\n",
        "    n=n+1 #n+=1"
      ],
      "metadata": {
        "colab": {
          "base_uri": "https://localhost:8080/"
        },
        "id": "PfUqIZ-_bGpy",
        "outputId": "d059bc2c-3d49-4ab9-c351-724d44839caf"
      },
      "execution_count": null,
      "outputs": [
        {
          "output_type": "stream",
          "name": "stdout",
          "text": [
            "Welcome to ICICI Bank\n",
            "Enter your pin0606\n",
            "successfully logged in\n",
            "\n",
            "      -Operations-\n",
            "      1-Desposit\n",
            "      2-Withdraw\n",
            "      3-Checkbalance\n",
            "      \n",
            "enter your choice3\n",
            "10000check your balance =25000\n"
          ]
        }
      ]
    },
    {
      "cell_type": "code",
      "source": [
        "#itteration\n",
        "name= \"Hitha shree\"\n",
        "for i in name:\n",
        "  print(i)\n"
      ],
      "metadata": {
        "colab": {
          "base_uri": "https://localhost:8080/"
        },
        "id": "YBsckT9QgXvU",
        "outputId": "b0604782-bcba-4e3d-c05a-42a65cc3ff8d"
      },
      "execution_count": null,
      "outputs": [
        {
          "output_type": "stream",
          "name": "stdout",
          "text": [
            "H\n",
            "i\n",
            "t\n",
            "h\n",
            "a\n",
            " \n",
            "s\n",
            "h\n",
            "r\n",
            "e\n",
            "e\n"
          ]
        }
      ]
    },
    {
      "cell_type": "code",
      "source": [
        "name= \"Hitha shree\"\n",
        "for i in name:\n",
        "  print(i*10)\n"
      ],
      "metadata": {
        "colab": {
          "base_uri": "https://localhost:8080/"
        },
        "id": "RZOoH-e9gz0z",
        "outputId": "a85e3c22-e8a6-46ea-a526-1037436a7e6c"
      },
      "execution_count": null,
      "outputs": [
        {
          "output_type": "stream",
          "name": "stdout",
          "text": [
            "HHHHHHHHHH\n",
            "iiiiiiiiii\n",
            "tttttttttt\n",
            "hhhhhhhhhh\n",
            "aaaaaaaaaa\n",
            "          \n",
            "ssssssssss\n",
            "hhhhhhhhhh\n",
            "rrrrrrrrrr\n",
            "eeeeeeeeee\n",
            "eeeeeeeeee\n"
          ]
        }
      ]
    },
    {
      "cell_type": "code",
      "source": [
        "#string methods\n",
        "s='Hey this Python Class'\n",
        "print(s.upper())\n",
        "print(s.lower())\n",
        "print(s.title())\n",
        "print(len(s))\n",
        "print(s.find('e'))\n",
        "print(s.startswith('Hey'))\n",
        "print(s.endswith('ss'))\n",
        "s=s.replace('Python','Python ML NLP')\n",
        "print(s)"
      ],
      "metadata": {
        "colab": {
          "base_uri": "https://localhost:8080/"
        },
        "id": "vmzg3XlBiqQP",
        "outputId": "a8b47cb4-9ae6-4b08-d253-585011e6208b"
      },
      "execution_count": null,
      "outputs": [
        {
          "output_type": "stream",
          "name": "stdout",
          "text": [
            "HEY THIS PYTHON CLASS\n",
            "hey this python class\n",
            "Hey This Python Class\n",
            "21\n",
            "1\n",
            "True\n",
            "True\n",
            "Hey this Python ML NLP Class\n"
          ]
        }
      ]
    },
    {
      "cell_type": "code",
      "source": [
        "#string Slicing\n",
        "s[0:21:3]"
      ],
      "metadata": {
        "colab": {
          "base_uri": "https://localhost:8080/",
          "height": 36
        },
        "id": "Dy9a1j-zjR0x",
        "outputId": "e311a081-60ee-43e4-ed7e-02439f65854b"
      },
      "execution_count": null,
      "outputs": [
        {
          "output_type": "execute_result",
          "data": {
            "text/plain": [
              "'H iPh a'"
            ],
            "application/vnd.google.colaboratory.intrinsic+json": {
              "type": "string"
            }
          },
          "metadata": {},
          "execution_count": 19
        }
      ]
    },
    {
      "cell_type": "code",
      "source": [
        "\n",
        "s=input('enter the string')\n",
        "print(s.upper())\n",
        "print(s.lower())\n",
        "print(s.title())\n",
        "print(len(s))\n",
        "print(s.find('e'))\n",
        "print(s.startswith('Hey'))\n",
        "print(s.endswith('ss'))\n",
        "ss=input('enter the sub string')\n",
        "rs=input('enter the new string')\n",
        "s=s.replace(ss,rs)\n",
        "print(s)"
      ],
      "metadata": {
        "colab": {
          "base_uri": "https://localhost:8080/"
        },
        "id": "mTcMtIwUlzKT",
        "outputId": "5275f81d-b60a-4b1c-8be5-1869413aa622"
      },
      "execution_count": null,
      "outputs": [
        {
          "output_type": "stream",
          "name": "stdout",
          "text": [
            "enter the stringhello this hitha\n",
            "HELLO THIS HITHA\n",
            "hello this hitha\n",
            "Hello This Hitha\n",
            "16\n",
            "1\n",
            "False\n",
            "False\n",
            "enter the sub stringhitha\n",
            "enter the new stringvidya\n",
            "hello this vidya\n"
          ]
        }
      ]
    },
    {
      "cell_type": "code",
      "source": [
        "s=input('enter the main string').lower()\n",
        "l=input('which letter count you want').lower()\n",
        "c=0\n",
        "for i in s:\n",
        "  if(i==l):\n",
        "    c+=1\n",
        "print(c)"
      ],
      "metadata": {
        "colab": {
          "base_uri": "https://localhost:8080/"
        },
        "id": "7eEPFhtF2WlV",
        "outputId": "023d77eb-71f3-455e-b1ea-49dbe49f4f1d"
      },
      "execution_count": null,
      "outputs": [
        {
          "output_type": "stream",
          "name": "stdout",
          "text": [
            "enter the main stringHELLO hello\n",
            "which letter count you wantl\n",
            "4\n"
          ]
        }
      ]
    },
    {
      "cell_type": "code",
      "source": [
        "s=input('enter the main string').lower()\n",
        "a=0\n",
        "e=0\n",
        "i=0\n",
        "o=0\n",
        "u=0\n",
        "for j in s:\n",
        "  if(j=='a'):\n",
        "    a+=1\n",
        "  elif(j=='e'):\n",
        "    e+=1\n",
        "  elif(j=='i'):\n",
        "    i+=1\n",
        "  elif(j=='o'):\n",
        "    o+=1\n",
        "  elif(j=='u'):\n",
        "    u+=1\n",
        "print('a->',a,'e->',e,'i->',i,'o->',o,'u->',u)\n"
      ],
      "metadata": {
        "colab": {
          "base_uri": "https://localhost:8080/"
        },
        "id": "rd0bZRKy3tOP",
        "outputId": "b7ea9f1d-fd9e-4ec7-fefa-1a04f84ce93b"
      },
      "execution_count": null,
      "outputs": [
        {
          "output_type": "stream",
          "name": "stdout",
          "text": [
            "enter the main stringhelloooo\n",
            "a-> 0 e-> 1 i-> 0 o-> 4 u-> 0\n"
          ]
        }
      ]
    },
    {
      "cell_type": "code",
      "source": [
        "'1'.isnumeric()"
      ],
      "metadata": {
        "colab": {
          "base_uri": "https://localhost:8080/"
        },
        "id": "ug_09B5V83fb",
        "outputId": "66fcf5d3-e514-44cb-c4c7-837746c563b7"
      },
      "execution_count": null,
      "outputs": [
        {
          "output_type": "execute_result",
          "data": {
            "text/plain": [
              "True"
            ]
          },
          "metadata": {},
          "execution_count": 43
        }
      ]
    },
    {
      "cell_type": "code",
      "source": [
        "'a'.isalpha()"
      ],
      "metadata": {
        "colab": {
          "base_uri": "https://localhost:8080/"
        },
        "id": "W8YD0uQG9C61",
        "outputId": "25a44f7b-a031-4630-bf50-d2786c5d4778"
      },
      "execution_count": null,
      "outputs": [
        {
          "output_type": "execute_result",
          "data": {
            "text/plain": [
              "True"
            ]
          },
          "metadata": {},
          "execution_count": 44
        }
      ]
    },
    {
      "cell_type": "code",
      "source": [
        "' '.isspace()"
      ],
      "metadata": {
        "colab": {
          "base_uri": "https://localhost:8080/"
        },
        "id": "MShDjDac9OJ9",
        "outputId": "9c18677a-1a0d-4530-ec99-e1dbf8ee989a"
      },
      "execution_count": null,
      "outputs": [
        {
          "output_type": "execute_result",
          "data": {
            "text/plain": [
              "True"
            ]
          },
          "metadata": {},
          "execution_count": 45
        }
      ]
    },
    {
      "cell_type": "code",
      "source": [
        "s=input('enter the main string').lower()\n",
        "a=0\n",
        "for j in s:\n",
        "  if(j.isalpha()=='a'):\n",
        "    print(j)\n",
        "  elif(j.isspace()=='a'):\n",
        "    print(j)\n",
        "  elif(j.isnumeric()=='a'):\n",
        "    print (j)"
      ],
      "metadata": {
        "colab": {
          "base_uri": "https://localhost:8080/"
        },
        "id": "xsHxScLp9ZS4",
        "outputId": "e2cdd3a3-c5e2-45ad-f4ab-005b69184183"
      },
      "execution_count": null,
      "outputs": [
        {
          "name": "stdout",
          "output_type": "stream",
          "text": [
            "enter the main stringhelloo 123\n"
          ]
        }
      ]
    },
    {
      "cell_type": "markdown",
      "source": [
        "**DAY 4**"
      ],
      "metadata": {
        "id": "_JBExcdpUzs4"
      }
    },
    {
      "cell_type": "code",
      "source": [
        "#Data structures(INBUILT)\n",
        "#List\n",
        "#Set\n",
        "#dictionary\n"
      ],
      "metadata": {
        "id": "N0kDfK1CCWEY"
      },
      "execution_count": null,
      "outputs": []
    },
    {
      "cell_type": "code",
      "source": [
        "#List Properties\n",
        "#Ordered\n",
        "#indexed\n",
        "#heterogenous\n",
        "#mutable"
      ],
      "metadata": {
        "id": "-fAqisEpCfvV"
      },
      "execution_count": null,
      "outputs": []
    },
    {
      "cell_type": "code",
      "source": [
        "a=[1,2,3,4,5,6,7,8,'hello']\n",
        "a\n"
      ],
      "metadata": {
        "colab": {
          "base_uri": "https://localhost:8080/"
        },
        "id": "DTaoY-bvThxf",
        "outputId": "d8177b41-b38e-490d-8617-7930d45632b1"
      },
      "execution_count": null,
      "outputs": [
        {
          "output_type": "execute_result",
          "data": {
            "text/plain": [
              "[1, 2, 3, 4, 5, 6, 7, 8, 'hello']"
            ]
          },
          "metadata": {},
          "execution_count": 1
        }
      ]
    },
    {
      "cell_type": "code",
      "source": [
        "a[1]=21 #change\n",
        "a"
      ],
      "metadata": {
        "colab": {
          "base_uri": "https://localhost:8080/"
        },
        "id": "6idCLRPBT6qj",
        "outputId": "8b802725-c22b-4ae4-ac85-d6309c83d51f"
      },
      "execution_count": null,
      "outputs": [
        {
          "output_type": "execute_result",
          "data": {
            "text/plain": [
              "[1, 21, 3, 4, 5, 6, 7, 8, 'hello']"
            ]
          },
          "metadata": {},
          "execution_count": 2
        }
      ]
    },
    {
      "cell_type": "code",
      "source": [
        "a.append('hitha') #add\n",
        "a"
      ],
      "metadata": {
        "colab": {
          "base_uri": "https://localhost:8080/"
        },
        "id": "pND5IdtMUAh-",
        "outputId": "f368f49b-ac67-472e-9517-97cd6a592526"
      },
      "execution_count": null,
      "outputs": [
        {
          "output_type": "execute_result",
          "data": {
            "text/plain": [
              "[1, 21, 3, 4, 5, 6, 7, 8, 'hello', 'hitha']"
            ]
          },
          "metadata": {},
          "execution_count": 3
        }
      ]
    },
    {
      "cell_type": "code",
      "source": [
        "a.remove('hello')\n",
        "a"
      ],
      "metadata": {
        "colab": {
          "base_uri": "https://localhost:8080/"
        },
        "id": "WZW1JgnsUKeA",
        "outputId": "7359682f-c6b0-4f25-a254-6557c676c1ac"
      },
      "execution_count": null,
      "outputs": [
        {
          "output_type": "execute_result",
          "data": {
            "text/plain": [
              "[1, 21, 3, 4, 5, 6, 7, 8, 'hitha']"
            ]
          },
          "metadata": {},
          "execution_count": 4
        }
      ]
    },
    {
      "cell_type": "code",
      "source": [
        "t=(1,2,3,4,5,6,7,8,'hello')\n",
        "t"
      ],
      "metadata": {
        "colab": {
          "base_uri": "https://localhost:8080/"
        },
        "id": "LH1HKZqLUagJ",
        "outputId": "fb75f7b7-2b9e-4b94-8b6a-712d3af5d2b0"
      },
      "execution_count": null,
      "outputs": [
        {
          "output_type": "execute_result",
          "data": {
            "text/plain": [
              "(1, 2, 3, 4, 5, 6, 7, 8, 'hello')"
            ]
          },
          "metadata": {},
          "execution_count": 5
        }
      ]
    },
    {
      "cell_type": "code",
      "source": [
        "def reverse_array(arr):\n",
        "  return arr[::-1]\n",
        "arr=[1,2,3,4,5]\n",
        "print(reverse_array(arr))"
      ],
      "metadata": {
        "colab": {
          "base_uri": "https://localhost:8080/"
        },
        "id": "9bAFc7qzag25",
        "outputId": "89139496-df82-44a9-a03b-2fbbb2cabf66"
      },
      "execution_count": null,
      "outputs": [
        {
          "output_type": "stream",
          "name": "stdout",
          "text": [
            "[5, 4, 3, 2, 1]\n"
          ]
        }
      ]
    },
    {
      "cell_type": "code",
      "source": [
        "#arthematic operations\n",
        "number=[1,2,3,4,5,6]\n",
        "find_largest=max(number)\n",
        "find_smallest=min(number)\n",
        "find_smallest , find_largest\n"
      ],
      "metadata": {
        "colab": {
          "base_uri": "https://localhost:8080/"
        },
        "id": "3bTvwlRscWOA",
        "outputId": "1a43517c-a467-4d7e-da38-56e475ce727d"
      },
      "execution_count": null,
      "outputs": [
        {
          "output_type": "execute_result",
          "data": {
            "text/plain": [
              "(1, 6)"
            ]
          },
          "metadata": {},
          "execution_count": 32
        }
      ]
    },
    {
      "cell_type": "code",
      "source": [
        "w=[1,2,3,4,5,6,7,8,9]\n",
        "gs=[ 3,4,6,7]\n",
        "extra=[]\n",
        "for i in w:\n",
        "  if (i in gs):\n",
        "    pass\n",
        "  else:\n",
        "    extra.append(i)\n",
        "print(extra)"
      ],
      "metadata": {
        "colab": {
          "base_uri": "https://localhost:8080/"
        },
        "id": "VVEQJyM8fnWa",
        "outputId": "d0456b6f-360a-4260-d20e-2109c899bc5d"
      },
      "execution_count": null,
      "outputs": [
        {
          "output_type": "stream",
          "name": "stdout",
          "text": [
            "[1, 2, 5, 8, 9]\n"
          ]
        }
      ]
    },
    {
      "cell_type": "code",
      "source": [
        "w=['7259959939','9353576773',\n",
        "9880852178,\n",
        "7892094882,\n",
        "9380011766,\n",
        "6364684957,\n",
        "9449945527,\n",
        "9353037876,\n",
        "9148327607,\n",
        "9886678142,\n",
        "8073659755,\n",
        "8884065958,\n",
        "8123302663,\n",
        "9110879058,\n",
        "9353926345,\n",
        "8147424676,\n",
        "9611775982,\n",
        "6363129192,\n",
        "9353457325,\n",
        "6366266576,\n",
        "6363505511,\n",
        "9113662972,\n",
        "8618093520,\n",
        "8861145572,\n",
        "6362810066,\n",
        "7760706020,\n",
        "8317409682,\n",
        "8105723936,\n",
        "9019647750,\n",
        "9483672274,\n",
        "9743597412,\n",
        "9482840301,\n",
        "9480741723,\n",
        "7676667422,\n",
        "9945904019,\n",
        "8660654024,\n",
        "9912130104,\n",
        "6364841177,\n",
        "6366474714,\n",
        "7892652772,\n",
        "8105138442,\n",
        "8217400359,\n",
        "8310788250,\n",
        "8431499433,\n",
        "9019024387,\n",
        "9019439392,\n",
        "9663473286]\n",
        "gs=[ 7259959939,\n",
        "9353576773,\n",
        "9880852178,\n",
        "7892094882,\n",
        "9380011766,\n",
        "6364684957,\n",
        "9449945527,\n",
        "9353037876,\n",
        "9148327607,\n",
        "9886678142,\n",
        "8073659755,\n",
        "8884065958,\n",
        "8123302663,\n",
        "9110879058,\n",
        "9353926345,\n",
        "8147424676,\n",
        "9611775982,\n",
        "6363129192,\n",
        "9353457325,\n",
        "6366266576,\n",
        "6363505511,\n",
        "9113662972,\n",
        "8618093520,\n",
        "8861145572,\n",
        "6362810066,\n",
        "7760706020\n",
        "]\n",
        "extra=[]\n",
        "for i in w:\n",
        "  if (i in gs):\n",
        "    pass\n",
        "  else:\n",
        "    extra.append(i)\n",
        "print(extra)"
      ],
      "metadata": {
        "colab": {
          "base_uri": "https://localhost:8080/"
        },
        "id": "LQnlQekCiK_8",
        "outputId": "387dcee9-008f-4933-b5f0-1bdbb1947a07"
      },
      "execution_count": null,
      "outputs": [
        {
          "output_type": "stream",
          "name": "stdout",
          "text": [
            "['7259959939', '9353576773', 8317409682, 8105723936, 9019647750, 9483672274, 9743597412, 9482840301, 9480741723, 7676667422, 9945904019, 8660654024, 9912130104, 6364841177, 6366474714, 7892652772, 8105138442, 8217400359, 8310788250, 8431499433, 9019024387, 9019439392, 9663473286]\n"
          ]
        }
      ]
    },
    {
      "cell_type": "code",
      "source": [
        "l=[1,2,3,4,5,7,8,56,23,1,2,4,5,7,7,56]\n",
        "print(min(l))\n",
        "print(max(l))\n",
        "print(sum(l))\n",
        "print(sum(l)//len(l)) #float operation"
      ],
      "metadata": {
        "colab": {
          "base_uri": "https://localhost:8080/"
        },
        "id": "RdQuZOgVnF6A",
        "outputId": "e034f523-4896-4a62-c603-beff69bf1e3c"
      },
      "execution_count": null,
      "outputs": [
        {
          "output_type": "stream",
          "name": "stdout",
          "text": [
            "1\n",
            "56\n",
            "191\n",
            "11\n"
          ]
        }
      ]
    },
    {
      "cell_type": "code",
      "source": [
        "l.index(5)"
      ],
      "metadata": {
        "colab": {
          "base_uri": "https://localhost:8080/"
        },
        "id": "Udr5_utpnb4j",
        "outputId": "3c29ae56-737e-419a-d15f-69ce71135237"
      },
      "execution_count": null,
      "outputs": [
        {
          "output_type": "execute_result",
          "data": {
            "text/plain": [
              "4"
            ]
          },
          "metadata": {},
          "execution_count": 46
        }
      ]
    },
    {
      "cell_type": "code",
      "source": [
        "l.insert(5,6)\n",
        "l"
      ],
      "metadata": {
        "colab": {
          "base_uri": "https://localhost:8080/"
        },
        "id": "8ZXD7rWgngv5",
        "outputId": "b56093dc-a3c1-4f35-8f7a-1bc8e05d07af"
      },
      "execution_count": null,
      "outputs": [
        {
          "output_type": "execute_result",
          "data": {
            "text/plain": [
              "[1, 2, 3, 4, 5, 6, 6, 6, 7, 8, 56, 23, 1, 2, 4, 5, 7, 7, 56]"
            ]
          },
          "metadata": {},
          "execution_count": 49
        }
      ]
    },
    {
      "cell_type": "code",
      "source": [
        "l.pop()"
      ],
      "metadata": {
        "colab": {
          "base_uri": "https://localhost:8080/"
        },
        "id": "H1tO6roGnpbg",
        "outputId": "1e95ace0-a726-4e6f-a22f-726431166535"
      },
      "execution_count": null,
      "outputs": [
        {
          "output_type": "execute_result",
          "data": {
            "text/plain": [
              "56"
            ]
          },
          "metadata": {},
          "execution_count": 50
        }
      ]
    },
    {
      "cell_type": "code",
      "source": [
        "l.count(7)"
      ],
      "metadata": {
        "colab": {
          "base_uri": "https://localhost:8080/"
        },
        "id": "-UPBEUG8ofOb",
        "outputId": "4601f8be-fb65-47e0-b2d2-47609e10af13"
      },
      "execution_count": null,
      "outputs": [
        {
          "output_type": "execute_result",
          "data": {
            "text/plain": [
              "3"
            ]
          },
          "metadata": {},
          "execution_count": 52
        }
      ]
    },
    {
      "cell_type": "code",
      "source": [
        "l=sorted(l)\n",
        "l"
      ],
      "metadata": {
        "colab": {
          "base_uri": "https://localhost:8080/"
        },
        "id": "6Aj_8oLdooeN",
        "outputId": "cdfff1ab-6c22-4d6f-c035-fa6fa52cfd3c"
      },
      "execution_count": null,
      "outputs": [
        {
          "output_type": "execute_result",
          "data": {
            "text/plain": [
              "[1, 1, 2, 2, 3, 4, 4, 5, 5, 6, 6, 6, 7, 7, 7, 8, 23, 56]"
            ]
          },
          "metadata": {},
          "execution_count": 57
        }
      ]
    },
    {
      "cell_type": "code",
      "source": [
        "import random\n",
        "l=['rock','paper','scissor']\n",
        "r=random.choice(l)\n",
        "\n",
        "while True:\n",
        "  start=input('start game:')\n",
        "  print(r)\n",
        "  if(r==start):\n",
        "     print('you lost')\n",
        "  else:\n",
        "    print('you won')\n",
        "    break\n",
        "\n"
      ],
      "metadata": {
        "colab": {
          "base_uri": "https://localhost:8080/"
        },
        "id": "RLsEfjEBp2U1",
        "outputId": "c83c0068-886a-417f-a86e-26429363bbcc"
      },
      "execution_count": null,
      "outputs": [
        {
          "output_type": "stream",
          "name": "stdout",
          "text": [
            "start game:paper\n",
            "rock\n",
            "you won\n"
          ]
        }
      ]
    },
    {
      "cell_type": "code",
      "source": [
        "#assignment\n",
        "import random\n",
        "l=['rock','paper','scissor']\n",
        "r=random.choice(l)\n",
        "while True:\n",
        "  start=input('enter your choice:')\n",
        "  print(r)\n",
        "  if(r==start):\n",
        "     print('its a tie')\n",
        "  else:\n",
        "    print('you gain 1 point')\n",
        "  break"
      ],
      "metadata": {
        "id": "-MjUSYy3vl5J"
      },
      "execution_count": null,
      "outputs": []
    },
    {
      "cell_type": "code",
      "source": [
        "n=True\n",
        "while(n):\n",
        "  ans=input('Please give me your phone').lower()\n",
        "  if(ans=='yes'):\n",
        "    print('thank you so much you are so sweet')\n",
        "    n=False #break\n",
        "  else:\n",
        "    print('please please please')"
      ],
      "metadata": {
        "colab": {
          "base_uri": "https://localhost:8080/"
        },
        "id": "CK4fIQh-t4BW",
        "outputId": "6eaa3373-e04a-49f6-e3e8-b2a15cfac58b"
      },
      "execution_count": null,
      "outputs": [
        {
          "output_type": "stream",
          "name": "stdout",
          "text": [
            "Please give me your phoneno\n",
            "please please please\n",
            "Please give me your phoneo\n",
            "please please please\n",
            "Please give me your phoneyes\n",
            "thank you so much you are so sweet\n"
          ]
        }
      ]
    },
    {
      "cell_type": "code",
      "source": [
        " bill=0\n",
        "while(True):\n",
        "  menu='''\n",
        "  1-idly -20Rs\n",
        "  2-dosa - 50Rs\n",
        "  3-Puri - 40Rs\n",
        "  '''\n",
        "  print(menu)\n",
        "  ch=int(input('Enter your choice'))\n",
        "  q=int(input('Enter the main meal quantity'))\n",
        "  if(ch==1):\n",
        "    bill+=20*q\n",
        "  elif(ch==2):\n",
        "    bill+=50*q\n",
        "  j='''\n",
        "  1-orange-40\n",
        "  2-apple-40\n",
        "  3-fanta-30\n",
        "  '''\n",
        "  ju=int(input('Enter juice'))\n",
        "  if(ju==1):\n",
        "    bill+=40\n",
        "\n",
        "  exit=input('do you want to exit')\n",
        "  if(exit=='yes'):\n",
        "    print('thank you your total bill is',bill,'rs')\n",
        "    break"
      ],
      "metadata": {
        "colab": {
          "base_uri": "https://localhost:8080/"
        },
        "id": "vQ7vWH8fCSug",
        "outputId": "4177b241-0ae6-4692-ad48-90788eec0735"
      },
      "execution_count": null,
      "outputs": [
        {
          "output_type": "stream",
          "name": "stdout",
          "text": [
            "\n",
            " 1-idly -20Rs\n",
            " 2-dosa - 50Rs\n",
            " 3-Puri - 40Rs\n",
            " \n",
            "Enter your choice1\n",
            "Enter the main meal quantity3\n",
            "Enter juice2\n",
            "do you want to exitno\n",
            "\n",
            " 1-idly -20Rs\n",
            " 2-dosa - 50Rs\n",
            " 3-Puri - 40Rs\n",
            " \n",
            "Enter your choice2\n",
            "Enter the main meal quantity3\n",
            "Enter juice2\n",
            "do you want to exityes\n",
            "thank you your total bill is 210 rs\n"
          ]
        }
      ]
    },
    {
      "cell_type": "markdown",
      "source": [
        "\n",
        "features of dictionaries\n",
        "\n",
        "\n",
        "*   heterogenous\n",
        "*   unordered\n",
        "*   key indexed\n",
        "*   mutable\n",
        "*   does not allow duplicate keys\n",
        "\n"
      ],
      "metadata": {
        "id": "FUfV3GzEIUl5"
      }
    },
    {
      "cell_type": "code",
      "source": [
        "d={\n",
        "    \"name\":\"hitha\",\n",
        "    \"id\":1234,\n",
        " \"name\":\"manish\"\n",
        "}\n",
        "d"
      ],
      "metadata": {
        "colab": {
          "base_uri": "https://localhost:8080/"
        },
        "id": "Pg_j_bNvI4rp",
        "outputId": "d6562f0f-1556-4b6e-8b36-1d7ad6f0aafe"
      },
      "execution_count": null,
      "outputs": [
        {
          "output_type": "execute_result",
          "data": {
            "text/plain": [
              "{'name': 'manish', 'id': 1234}"
            ]
          },
          "metadata": {},
          "execution_count": 80
        }
      ]
    },
    {
      "cell_type": "code",
      "source": [
        "d.items()"
      ],
      "metadata": {
        "colab": {
          "base_uri": "https://localhost:8080/"
        },
        "id": "zfkI7cMyL4zJ",
        "outputId": "93174e28-6057-41a0-cd3c-5c24f35dc303"
      },
      "execution_count": null,
      "outputs": [
        {
          "output_type": "execute_result",
          "data": {
            "text/plain": [
              "dict_items([('name', 'manish'), ('id', 1234)])"
            ]
          },
          "metadata": {},
          "execution_count": 88
        }
      ]
    },
    {
      "cell_type": "code",
      "source": [
        "d.values()"
      ],
      "metadata": {
        "colab": {
          "base_uri": "https://localhost:8080/"
        },
        "id": "xkzgP0vOL9o0",
        "outputId": "e4c01a9e-caf9-420c-9942-39de741cb2b8"
      },
      "execution_count": null,
      "outputs": [
        {
          "output_type": "execute_result",
          "data": {
            "text/plain": [
              "dict_values(['manish', 1234])"
            ]
          },
          "metadata": {},
          "execution_count": 89
        }
      ]
    },
    {
      "cell_type": "code",
      "source": [
        "d.keys()"
      ],
      "metadata": {
        "colab": {
          "base_uri": "https://localhost:8080/"
        },
        "id": "ieDscsLeMBtB",
        "outputId": "90ee4c49-6e2a-49e7-9e07-f4d0cd7c348f"
      },
      "execution_count": null,
      "outputs": [
        {
          "output_type": "execute_result",
          "data": {
            "text/plain": [
              "dict_keys(['name', 'id'])"
            ]
          },
          "metadata": {},
          "execution_count": 91
        }
      ]
    },
    {
      "cell_type": "code",
      "source": [
        "d1={\n",
        "    \"name\":\"vidya\",\n",
        "    \"id\":1235,\n",
        "}\n",
        "d1"
      ],
      "metadata": {
        "colab": {
          "base_uri": "https://localhost:8080/"
        },
        "id": "CflBfouYLVeX",
        "outputId": "36c10dab-bfc2-4fc4-aecd-3e56764104ef"
      },
      "execution_count": null,
      "outputs": [
        {
          "output_type": "execute_result",
          "data": {
            "text/plain": [
              "{'name': 'vidya', 'id': 1235}"
            ]
          },
          "metadata": {},
          "execution_count": 86
        }
      ]
    },
    {
      "cell_type": "code",
      "source": [
        "d2={\n",
        "    \"name\":\"pranitha\",\n",
        "    \"id\":1236,\n",
        "}\n",
        "d2"
      ],
      "metadata": {
        "colab": {
          "base_uri": "https://localhost:8080/"
        },
        "id": "nzdH5G-_LmsS",
        "outputId": "783f1e3b-a84c-465a-9298-d1b712b6eaa0"
      },
      "execution_count": null,
      "outputs": [
        {
          "output_type": "execute_result",
          "data": {
            "text/plain": [
              "{'name': 'pranitha', 'id': 1236}"
            ]
          },
          "metadata": {},
          "execution_count": 85
        }
      ]
    },
    {
      "cell_type": "code",
      "source": [
        "l=[d,d1,d2]\n",
        "print('Employee Details')\n",
        "print('------------------')\n",
        "for k in l:\n",
        "  for i,j in k.items():\n",
        "    print(i,'-->',j)\n",
        "  print('--------------')"
      ],
      "metadata": {
        "colab": {
          "base_uri": "https://localhost:8080/"
        },
        "id": "gW99GVFEKojR",
        "outputId": "9955f293-08fd-4c80-8913-4f685028e3d3"
      },
      "execution_count": null,
      "outputs": [
        {
          "output_type": "stream",
          "name": "stdout",
          "text": [
            "Employee Details\n",
            "------------------\n",
            "name --> manish\n",
            "id --> 1234\n",
            "--------------\n",
            "name --> vidya\n",
            "id --> 1235\n",
            "--------------\n",
            "name --> pranitha\n",
            "id --> 1236\n",
            "--------------\n"
          ]
        }
      ]
    },
    {
      "cell_type": "code",
      "source": [
        "pb={\n",
        "    'Transaction Type':[],\n",
        "    'Transaction Amount':[],\n",
        "    'Balance':[]\n",
        "}"
      ],
      "metadata": {
        "id": "tOFW5C4IOAc0"
      },
      "execution_count": null,
      "outputs": []
    },
    {
      "cell_type": "code",
      "source": [
        "pb['Transaction Type'].append('Withdraw')\n",
        "pb['Transaction Amount'].append(10000)\n",
        "pb['Balance'].append(16010)"
      ],
      "metadata": {
        "id": "k5LfpaD3OYeU"
      },
      "execution_count": null,
      "outputs": []
    },
    {
      "cell_type": "code",
      "source": [
        "pb"
      ],
      "metadata": {
        "colab": {
          "base_uri": "https://localhost:8080/"
        },
        "id": "toINvgEeJncW",
        "outputId": "8fd2e941-f1fd-4d26-a9d6-94d2683d309c"
      },
      "execution_count": null,
      "outputs": [
        {
          "output_type": "execute_result",
          "data": {
            "text/plain": [
              "{'Transaction Type': ['Withdraw', 'Withdraw'],\n",
              " 'Transaction Amount': [10000, 10000],\n",
              " 'Balance': [16010, 16010]}"
            ]
          },
          "metadata": {},
          "execution_count": 37
        }
      ]
    },
    {
      "cell_type": "markdown",
      "source": [
        "Properties of set\n",
        "\n",
        "*   no duplicate items\n",
        "\n",
        "\n",
        "*   not indexed\n",
        "\n",
        "*   mutable\n",
        "\n",
        "*  Unordered\n",
        "\n"
      ],
      "metadata": {
        "id": "juzHnnecQDx9"
      }
    },
    {
      "cell_type": "code",
      "source": [
        "s={1,2,3,4,1,2}\n"
      ],
      "metadata": {
        "id": "LJtx3fjxQXG5"
      },
      "execution_count": null,
      "outputs": []
    },
    {
      "cell_type": "code",
      "source": [
        "a={1,2,3,4,5}\n",
        "b={3,4,5,6,7}\n",
        "i=a.intersection(b)\n",
        "print(i)\n",
        "u=a.union(b)\n",
        "print(u)"
      ],
      "metadata": {
        "colab": {
          "base_uri": "https://localhost:8080/"
        },
        "id": "CuWRMDXHQkzi",
        "outputId": "82b16908-f4de-4445-e717-f432a34e3140"
      },
      "execution_count": null,
      "outputs": [
        {
          "output_type": "stream",
          "name": "stdout",
          "text": [
            "{3, 4, 5}\n",
            "{1, 2, 3, 4, 5, 6, 7}\n"
          ]
        }
      ]
    },
    {
      "cell_type": "code",
      "source": [
        "s.add('hello')\n",
        "s.pop()"
      ],
      "metadata": {
        "colab": {
          "base_uri": "https://localhost:8080/"
        },
        "id": "tQNM36B3Q0aD",
        "outputId": "b12add48-876f-4576-e90d-1b2601e89121"
      },
      "execution_count": null,
      "outputs": [
        {
          "output_type": "execute_result",
          "data": {
            "text/plain": [
              "1"
            ]
          },
          "metadata": {},
          "execution_count": 98
        }
      ]
    },
    {
      "cell_type": "code",
      "source": [
        "s"
      ],
      "metadata": {
        "colab": {
          "base_uri": "https://localhost:8080/"
        },
        "id": "qPN1TlgmQ9gP",
        "outputId": "42fa92e2-2b50-4bd5-ffa1-9e585668626d"
      },
      "execution_count": null,
      "outputs": [
        {
          "output_type": "execute_result",
          "data": {
            "text/plain": [
              "{2, 3, 4, 'hello'}"
            ]
          },
          "metadata": {},
          "execution_count": 99
        }
      ]
    },
    {
      "cell_type": "code",
      "source": [
        "def marriage(bride,groom,place):\n",
        "  print(f'come to {bride} and {groom}\\'s marraige at {place}')"
      ],
      "metadata": {
        "id": "gCpNKsHgSe79"
      },
      "execution_count": null,
      "outputs": []
    },
    {
      "cell_type": "code",
      "source": [
        "marriage(\"nitya\",\"srk\",\"goa\")"
      ],
      "metadata": {
        "colab": {
          "base_uri": "https://localhost:8080/"
        },
        "id": "etMJLSkcS2IB",
        "outputId": "04d72950-fa51-4737-b432-ce8f0bf287bc"
      },
      "execution_count": null,
      "outputs": [
        {
          "output_type": "stream",
          "name": "stdout",
          "text": [
            "come to nitya and srk's marraige at goa\n"
          ]
        }
      ]
    },
    {
      "cell_type": "code",
      "source": [
        "pip install gradio"
      ],
      "metadata": {
        "colab": {
          "base_uri": "https://localhost:8080/"
        },
        "id": "2AfQUNmlVBxJ",
        "outputId": "f2558d93-9dc6-4648-e113-648aef7c3105"
      },
      "execution_count": null,
      "outputs": [
        {
          "output_type": "stream",
          "name": "stdout",
          "text": [
            "Collecting gradio\n",
            "  Downloading gradio-5.4.0-py3-none-any.whl.metadata (16 kB)\n",
            "Collecting aiofiles<24.0,>=22.0 (from gradio)\n",
            "  Downloading aiofiles-23.2.1-py3-none-any.whl.metadata (9.7 kB)\n",
            "Requirement already satisfied: anyio<5.0,>=3.0 in /usr/local/lib/python3.10/dist-packages (from gradio) (3.7.1)\n",
            "Collecting fastapi<1.0,>=0.115.2 (from gradio)\n",
            "  Downloading fastapi-0.115.3-py3-none-any.whl.metadata (27 kB)\n",
            "Collecting ffmpy (from gradio)\n",
            "  Downloading ffmpy-0.4.0-py3-none-any.whl.metadata (2.9 kB)\n",
            "Collecting gradio-client==1.4.2 (from gradio)\n",
            "  Downloading gradio_client-1.4.2-py3-none-any.whl.metadata (7.1 kB)\n",
            "Collecting httpx>=0.24.1 (from gradio)\n",
            "  Downloading httpx-0.27.2-py3-none-any.whl.metadata (7.1 kB)\n",
            "Collecting huggingface-hub>=0.25.1 (from gradio)\n",
            "  Downloading huggingface_hub-0.26.1-py3-none-any.whl.metadata (13 kB)\n",
            "Requirement already satisfied: jinja2<4.0 in /usr/local/lib/python3.10/dist-packages (from gradio) (3.1.4)\n",
            "Collecting markupsafe~=2.0 (from gradio)\n",
            "  Downloading MarkupSafe-2.1.5-cp310-cp310-manylinux_2_17_x86_64.manylinux2014_x86_64.whl.metadata (3.0 kB)\n",
            "Requirement already satisfied: numpy<3.0,>=1.0 in /usr/local/lib/python3.10/dist-packages (from gradio) (1.26.4)\n",
            "Collecting orjson~=3.0 (from gradio)\n",
            "  Downloading orjson-3.10.10-cp310-cp310-manylinux_2_17_x86_64.manylinux2014_x86_64.whl.metadata (50 kB)\n",
            "\u001b[2K     \u001b[90m━━━━━━━━━━━━━━━━━━━━━━━━━━━━━━━━━━━━━━━━\u001b[0m \u001b[32m50.6/50.6 kB\u001b[0m \u001b[31m3.6 MB/s\u001b[0m eta \u001b[36m0:00:00\u001b[0m\n",
            "\u001b[?25hRequirement already satisfied: packaging in /usr/local/lib/python3.10/dist-packages (from gradio) (24.1)\n",
            "Requirement already satisfied: pandas<3.0,>=1.0 in /usr/local/lib/python3.10/dist-packages (from gradio) (2.2.2)\n",
            "Requirement already satisfied: pillow<12.0,>=8.0 in /usr/local/lib/python3.10/dist-packages (from gradio) (10.4.0)\n",
            "Requirement already satisfied: pydantic>=2.0 in /usr/local/lib/python3.10/dist-packages (from gradio) (2.9.2)\n",
            "Collecting pydub (from gradio)\n",
            "  Downloading pydub-0.25.1-py2.py3-none-any.whl.metadata (1.4 kB)\n",
            "Collecting python-multipart==0.0.12 (from gradio)\n",
            "  Downloading python_multipart-0.0.12-py3-none-any.whl.metadata (1.9 kB)\n",
            "Requirement already satisfied: pyyaml<7.0,>=5.0 in /usr/local/lib/python3.10/dist-packages (from gradio) (6.0.2)\n",
            "Collecting ruff>=0.2.2 (from gradio)\n",
            "  Downloading ruff-0.7.1-py3-none-manylinux_2_17_x86_64.manylinux2014_x86_64.whl.metadata (25 kB)\n",
            "Collecting safehttpx<1.0,>=0.1.1 (from gradio)\n",
            "  Downloading safehttpx-0.1.1-py3-none-any.whl.metadata (4.1 kB)\n",
            "Collecting semantic-version~=2.0 (from gradio)\n",
            "  Downloading semantic_version-2.10.0-py2.py3-none-any.whl.metadata (9.7 kB)\n",
            "Collecting starlette<1.0,>=0.40.0 (from gradio)\n",
            "  Downloading starlette-0.41.0-py3-none-any.whl.metadata (6.0 kB)\n",
            "Collecting tomlkit==0.12.0 (from gradio)\n",
            "  Downloading tomlkit-0.12.0-py3-none-any.whl.metadata (2.7 kB)\n",
            "Requirement already satisfied: typer<1.0,>=0.12 in /usr/local/lib/python3.10/dist-packages (from gradio) (0.12.5)\n",
            "Requirement already satisfied: typing-extensions~=4.0 in /usr/local/lib/python3.10/dist-packages (from gradio) (4.12.2)\n",
            "Collecting uvicorn>=0.14.0 (from gradio)\n",
            "  Downloading uvicorn-0.32.0-py3-none-any.whl.metadata (6.6 kB)\n",
            "Requirement already satisfied: fsspec in /usr/local/lib/python3.10/dist-packages (from gradio-client==1.4.2->gradio) (2024.6.1)\n",
            "Collecting websockets<13.0,>=10.0 (from gradio-client==1.4.2->gradio)\n",
            "  Downloading websockets-12.0-cp310-cp310-manylinux_2_5_x86_64.manylinux1_x86_64.manylinux_2_17_x86_64.manylinux2014_x86_64.whl.metadata (6.6 kB)\n",
            "Requirement already satisfied: idna>=2.8 in /usr/local/lib/python3.10/dist-packages (from anyio<5.0,>=3.0->gradio) (3.10)\n",
            "Requirement already satisfied: sniffio>=1.1 in /usr/local/lib/python3.10/dist-packages (from anyio<5.0,>=3.0->gradio) (1.3.1)\n",
            "Requirement already satisfied: exceptiongroup in /usr/local/lib/python3.10/dist-packages (from anyio<5.0,>=3.0->gradio) (1.2.2)\n",
            "Requirement already satisfied: certifi in /usr/local/lib/python3.10/dist-packages (from httpx>=0.24.1->gradio) (2024.8.30)\n",
            "Collecting httpcore==1.* (from httpx>=0.24.1->gradio)\n",
            "  Downloading httpcore-1.0.6-py3-none-any.whl.metadata (21 kB)\n",
            "Collecting h11<0.15,>=0.13 (from httpcore==1.*->httpx>=0.24.1->gradio)\n",
            "  Downloading h11-0.14.0-py3-none-any.whl.metadata (8.2 kB)\n",
            "Requirement already satisfied: filelock in /usr/local/lib/python3.10/dist-packages (from huggingface-hub>=0.25.1->gradio) (3.16.1)\n",
            "Requirement already satisfied: requests in /usr/local/lib/python3.10/dist-packages (from huggingface-hub>=0.25.1->gradio) (2.32.3)\n",
            "Requirement already satisfied: tqdm>=4.42.1 in /usr/local/lib/python3.10/dist-packages (from huggingface-hub>=0.25.1->gradio) (4.66.5)\n",
            "Requirement already satisfied: python-dateutil>=2.8.2 in /usr/local/lib/python3.10/dist-packages (from pandas<3.0,>=1.0->gradio) (2.8.2)\n",
            "Requirement already satisfied: pytz>=2020.1 in /usr/local/lib/python3.10/dist-packages (from pandas<3.0,>=1.0->gradio) (2024.2)\n",
            "Requirement already satisfied: tzdata>=2022.7 in /usr/local/lib/python3.10/dist-packages (from pandas<3.0,>=1.0->gradio) (2024.2)\n",
            "Requirement already satisfied: annotated-types>=0.6.0 in /usr/local/lib/python3.10/dist-packages (from pydantic>=2.0->gradio) (0.7.0)\n",
            "Requirement already satisfied: pydantic-core==2.23.4 in /usr/local/lib/python3.10/dist-packages (from pydantic>=2.0->gradio) (2.23.4)\n",
            "Requirement already satisfied: click>=8.0.0 in /usr/local/lib/python3.10/dist-packages (from typer<1.0,>=0.12->gradio) (8.1.7)\n",
            "Requirement already satisfied: shellingham>=1.3.0 in /usr/local/lib/python3.10/dist-packages (from typer<1.0,>=0.12->gradio) (1.5.4)\n",
            "Requirement already satisfied: rich>=10.11.0 in /usr/local/lib/python3.10/dist-packages (from typer<1.0,>=0.12->gradio) (13.9.3)\n",
            "Requirement already satisfied: six>=1.5 in /usr/local/lib/python3.10/dist-packages (from python-dateutil>=2.8.2->pandas<3.0,>=1.0->gradio) (1.16.0)\n",
            "Requirement already satisfied: markdown-it-py>=2.2.0 in /usr/local/lib/python3.10/dist-packages (from rich>=10.11.0->typer<1.0,>=0.12->gradio) (3.0.0)\n",
            "Requirement already satisfied: pygments<3.0.0,>=2.13.0 in /usr/local/lib/python3.10/dist-packages (from rich>=10.11.0->typer<1.0,>=0.12->gradio) (2.18.0)\n",
            "Requirement already satisfied: charset-normalizer<4,>=2 in /usr/local/lib/python3.10/dist-packages (from requests->huggingface-hub>=0.25.1->gradio) (3.4.0)\n",
            "Requirement already satisfied: urllib3<3,>=1.21.1 in /usr/local/lib/python3.10/dist-packages (from requests->huggingface-hub>=0.25.1->gradio) (2.2.3)\n",
            "Requirement already satisfied: mdurl~=0.1 in /usr/local/lib/python3.10/dist-packages (from markdown-it-py>=2.2.0->rich>=10.11.0->typer<1.0,>=0.12->gradio) (0.1.2)\n",
            "Downloading gradio-5.4.0-py3-none-any.whl (56.7 MB)\n",
            "\u001b[2K   \u001b[90m━━━━━━━━━━━━━━━━━━━━━━━━━━━━━━━━━━━━━━━━\u001b[0m \u001b[32m56.7/56.7 MB\u001b[0m \u001b[31m10.3 MB/s\u001b[0m eta \u001b[36m0:00:00\u001b[0m\n",
            "\u001b[?25hDownloading gradio_client-1.4.2-py3-none-any.whl (319 kB)\n",
            "\u001b[2K   \u001b[90m━━━━━━━━━━━━━━━━━━━━━━━━━━━━━━━━━━━━━━━━\u001b[0m \u001b[32m319.8/319.8 kB\u001b[0m \u001b[31m20.5 MB/s\u001b[0m eta \u001b[36m0:00:00\u001b[0m\n",
            "\u001b[?25hDownloading python_multipart-0.0.12-py3-none-any.whl (23 kB)\n",
            "Downloading tomlkit-0.12.0-py3-none-any.whl (37 kB)\n",
            "Downloading aiofiles-23.2.1-py3-none-any.whl (15 kB)\n",
            "Downloading fastapi-0.115.3-py3-none-any.whl (94 kB)\n",
            "\u001b[2K   \u001b[90m━━━━━━━━━━━━━━━━━━━━━━━━━━━━━━━━━━━━━━━━\u001b[0m \u001b[32m94.6/94.6 kB\u001b[0m \u001b[31m7.3 MB/s\u001b[0m eta \u001b[36m0:00:00\u001b[0m\n",
            "\u001b[?25hDownloading httpx-0.27.2-py3-none-any.whl (76 kB)\n",
            "\u001b[2K   \u001b[90m━━━━━━━━━━━━━━━━━━━━━━━━━━━━━━━━━━━━━━━━\u001b[0m \u001b[32m76.4/76.4 kB\u001b[0m \u001b[31m5.2 MB/s\u001b[0m eta \u001b[36m0:00:00\u001b[0m\n",
            "\u001b[?25hDownloading httpcore-1.0.6-py3-none-any.whl (78 kB)\n",
            "\u001b[2K   \u001b[90m━━━━━━━━━━━━━━━━━━━━━━━━━━━━━━━━━━━━━━━━\u001b[0m \u001b[32m78.0/78.0 kB\u001b[0m \u001b[31m6.0 MB/s\u001b[0m eta \u001b[36m0:00:00\u001b[0m\n",
            "\u001b[?25hDownloading huggingface_hub-0.26.1-py3-none-any.whl (447 kB)\n",
            "\u001b[2K   \u001b[90m━━━━━━━━━━━━━━━━━━━━━━━━━━━━━━━━━━━━━━━━\u001b[0m \u001b[32m447.4/447.4 kB\u001b[0m \u001b[31m26.2 MB/s\u001b[0m eta \u001b[36m0:00:00\u001b[0m\n",
            "\u001b[?25hDownloading MarkupSafe-2.1.5-cp310-cp310-manylinux_2_17_x86_64.manylinux2014_x86_64.whl (25 kB)\n",
            "Downloading orjson-3.10.10-cp310-cp310-manylinux_2_17_x86_64.manylinux2014_x86_64.whl (144 kB)\n",
            "\u001b[2K   \u001b[90m━━━━━━━━━━━━━━━━━━━━━━━━━━━━━━━━━━━━━━━━\u001b[0m \u001b[32m144.5/144.5 kB\u001b[0m \u001b[31m10.9 MB/s\u001b[0m eta \u001b[36m0:00:00\u001b[0m\n",
            "\u001b[?25hDownloading ruff-0.7.1-py3-none-manylinux_2_17_x86_64.manylinux2014_x86_64.whl (11.0 MB)\n",
            "\u001b[2K   \u001b[90m━━━━━━━━━━━━━━━━━━━━━━━━━━━━━━━━━━━━━━━━\u001b[0m \u001b[32m11.0/11.0 MB\u001b[0m \u001b[31m87.2 MB/s\u001b[0m eta \u001b[36m0:00:00\u001b[0m\n",
            "\u001b[?25hDownloading safehttpx-0.1.1-py3-none-any.whl (8.4 kB)\n",
            "Downloading semantic_version-2.10.0-py2.py3-none-any.whl (15 kB)\n",
            "Downloading starlette-0.41.0-py3-none-any.whl (73 kB)\n",
            "\u001b[2K   \u001b[90m━━━━━━━━━━━━━━━━━━━━━━━━━━━━━━━━━━━━━━━━\u001b[0m \u001b[32m73.2/73.2 kB\u001b[0m \u001b[31m5.9 MB/s\u001b[0m eta \u001b[36m0:00:00\u001b[0m\n",
            "\u001b[?25hDownloading uvicorn-0.32.0-py3-none-any.whl (63 kB)\n",
            "\u001b[2K   \u001b[90m━━━━━━━━━━━━━━━━━━━━━━━━━━━━━━━━━━━━━━━━\u001b[0m \u001b[32m63.7/63.7 kB\u001b[0m \u001b[31m4.9 MB/s\u001b[0m eta \u001b[36m0:00:00\u001b[0m\n",
            "\u001b[?25hDownloading ffmpy-0.4.0-py3-none-any.whl (5.8 kB)\n",
            "Downloading pydub-0.25.1-py2.py3-none-any.whl (32 kB)\n",
            "Downloading h11-0.14.0-py3-none-any.whl (58 kB)\n",
            "\u001b[2K   \u001b[90m━━━━━━━━━━━━━━━━━━━━━━━━━━━━━━━━━━━━━━━━\u001b[0m \u001b[32m58.3/58.3 kB\u001b[0m \u001b[31m4.8 MB/s\u001b[0m eta \u001b[36m0:00:00\u001b[0m\n",
            "\u001b[?25hDownloading websockets-12.0-cp310-cp310-manylinux_2_5_x86_64.manylinux1_x86_64.manylinux_2_17_x86_64.manylinux2014_x86_64.whl (130 kB)\n",
            "\u001b[2K   \u001b[90m━━━━━━━━━━━━━━━━━━━━━━━━━━━━━━━━━━━━━━━━\u001b[0m \u001b[32m130.2/130.2 kB\u001b[0m \u001b[31m9.6 MB/s\u001b[0m eta \u001b[36m0:00:00\u001b[0m\n",
            "\u001b[?25hInstalling collected packages: pydub, websockets, tomlkit, semantic-version, ruff, python-multipart, orjson, markupsafe, h11, ffmpy, aiofiles, uvicorn, starlette, huggingface-hub, httpcore, httpx, fastapi, safehttpx, gradio-client, gradio\n",
            "  Attempting uninstall: markupsafe\n",
            "    Found existing installation: MarkupSafe 3.0.2\n",
            "    Uninstalling MarkupSafe-3.0.2:\n",
            "      Successfully uninstalled MarkupSafe-3.0.2\n",
            "  Attempting uninstall: huggingface-hub\n",
            "    Found existing installation: huggingface-hub 0.24.7\n",
            "    Uninstalling huggingface-hub-0.24.7:\n",
            "      Successfully uninstalled huggingface-hub-0.24.7\n",
            "Successfully installed aiofiles-23.2.1 fastapi-0.115.3 ffmpy-0.4.0 gradio-5.4.0 gradio-client-1.4.2 h11-0.14.0 httpcore-1.0.6 httpx-0.27.2 huggingface-hub-0.26.1 markupsafe-2.1.5 orjson-3.10.10 pydub-0.25.1 python-multipart-0.0.12 ruff-0.7.1 safehttpx-0.1.1 semantic-version-2.10.0 starlette-0.41.0 tomlkit-0.12.0 uvicorn-0.32.0 websockets-12.0\n"
          ]
        }
      ]
    },
    {
      "cell_type": "code",
      "source": [
        "import gradio as gr"
      ],
      "metadata": {
        "id": "psxhMj5oVLas"
      },
      "execution_count": null,
      "outputs": []
    },
    {
      "cell_type": "code",
      "source": [
        "def bye(name):\n",
        "   return f'bye bye {name}'"
      ],
      "metadata": {
        "id": "2fL-Epz0VOZM"
      },
      "execution_count": null,
      "outputs": []
    },
    {
      "cell_type": "code",
      "source": [
        "def add (a,b,op):\n",
        "  return f'the addition is {a+b}'"
      ],
      "metadata": {
        "id": "qZf8I4jMVWVf"
      },
      "execution_count": null,
      "outputs": []
    },
    {
      "cell_type": "code",
      "source": [
        "iface=gr.Interface(\n",
        "    fn=add,\n",
        "    inputs=[gr.Number(label='Enter a'), gr.Number(label='Enter b')],\n",
        "    outputs='text',\n",
        "    title='Addition Operation'\n",
        "    )\n",
        "iface.launch()"
      ],
      "metadata": {
        "colab": {
          "base_uri": "https://localhost:8080/",
          "height": 715
        },
        "id": "3iuQPzYlVfDZ",
        "outputId": "4b6a007c-6690-4e06-db75-728dbf6d4564"
      },
      "execution_count": null,
      "outputs": [
        {
          "output_type": "stream",
          "name": "stderr",
          "text": [
            "/usr/local/lib/python3.10/dist-packages/gradio/utils.py:980: UserWarning: Expected 3 arguments for function <function add at 0x7e741e4b71c0>, received 2.\n",
            "  warnings.warn(\n",
            "/usr/local/lib/python3.10/dist-packages/gradio/utils.py:984: UserWarning: Expected at least 3 arguments for function <function add at 0x7e741e4b71c0>, received 2.\n",
            "  warnings.warn(\n"
          ]
        },
        {
          "output_type": "stream",
          "name": "stdout",
          "text": [
            "Running Gradio in a Colab notebook requires sharing enabled. Automatically setting `share=True` (you can turn this off by setting `share=False` in `launch()` explicitly).\n",
            "\n",
            "Colab notebook detected. To show errors in colab notebook, set debug=True in launch()\n",
            "* Running on public URL: https://4768f092898b3a7733.gradio.live\n",
            "\n",
            "This share link expires in 72 hours. For free permanent hosting and GPU upgrades, run `gradio deploy` from the terminal in the working directory to deploy to Hugging Face Spaces (https://huggingface.co/spaces)\n"
          ]
        },
        {
          "output_type": "display_data",
          "data": {
            "text/plain": [
              "<IPython.core.display.HTML object>"
            ],
            "text/html": [
              "<div><iframe src=\"https://4768f092898b3a7733.gradio.live\" width=\"100%\" height=\"500\" allow=\"autoplay; camera; microphone; clipboard-read; clipboard-write;\" frameborder=\"0\" allowfullscreen></iframe></div>"
            ]
          },
          "metadata": {}
        },
        {
          "output_type": "execute_result",
          "data": {
            "text/plain": []
          },
          "metadata": {},
          "execution_count": 53
        }
      ]
    },
    {
      "cell_type": "code",
      "source": [
        "iface=gr.Interface(\n",
        "    fn=bye,\n",
        "    inputs='text',\n",
        "    outputs='text',\n",
        "    title='Bye Information'\n",
        ")"
      ],
      "metadata": {
        "id": "EDO2zCgqWJMi"
      },
      "execution_count": null,
      "outputs": []
    },
    {
      "cell_type": "markdown",
      "source": [
        "Assessment Questions"
      ],
      "metadata": {
        "id": "zMHzNoxJPw_E"
      }
    },
    {
      "cell_type": "code",
      "source": [
        "# CONDITIONAL STATEMENTS\n",
        "# 1. Write a python program that checks if a number is positive,negative or zero.\n",
        "num = int(input(\"Enter a number:\"))\n",
        "if num > 0:\n",
        "  print(\"The Entered Number is Positive.\")\n",
        "elif num == 0:\n",
        "  print(\"The Entered Number is Zero.\")\n",
        "else:\n",
        "  print(\"Entered Number is Negative.\")\n"
      ],
      "metadata": {
        "id": "XdTFUTXVo_-0",
        "colab": {
          "base_uri": "https://localhost:8080/"
        },
        "outputId": "f84bb08e-4ea5-4607-8b25-e1749c6c863a"
      },
      "execution_count": null,
      "outputs": [
        {
          "output_type": "stream",
          "name": "stdout",
          "text": [
            "Enter a number:5\n",
            "The Entered Number is Positive.\n"
          ]
        }
      ]
    },
    {
      "cell_type": "code",
      "source": [
        "l=[4,6,1,3,9,2]\n",
        "l.sort()\n",
        "print(\"Sorted list:\",l)\n",
        "sum_elements = sum(l)\n",
        "print(\"Sum of elements:\", sum_elements)\n",
        "l.append(5)\n",
        "print(\"List after adding 5:\", l)\n",
        "l.remove(min(l))\n",
        "print(\"List after removing the smallest element:\",l)"
      ],
      "metadata": {
        "colab": {
          "base_uri": "https://localhost:8080/"
        },
        "id": "a5InBOVR6Muy",
        "outputId": "c97f76cb-2123-4e12-8508-aa01710e6c4b"
      },
      "execution_count": null,
      "outputs": [
        {
          "output_type": "stream",
          "name": "stdout",
          "text": [
            "Sorted list: [1, 2, 3, 4, 6, 9]\n",
            "Sum of elements: 25\n",
            "List after adding 5: [1, 2, 3, 4, 6, 9, 5]\n",
            "List after removing the smallest element: [2, 3, 4, 6, 9, 5]\n"
          ]
        }
      ]
    },
    {
      "cell_type": "code",
      "source": [
        "responses = {}\n",
        "while True:\n",
        "   user_input = input(\"Enter something (type 'exit' to stop):\")\n",
        "   if user_input.lower() == \"exit\":\n",
        "    break\n",
        "   responses[user_input] = \"Added to dictionary\"\n",
        "print(\"Goodbye\")"
      ],
      "metadata": {
        "colab": {
          "base_uri": "https://localhost:8080/"
        },
        "id": "PJ0NG4Mz7vZX",
        "outputId": "d5cbc0b2-3d4a-4215-8b4f-1095e1d5515a"
      },
      "execution_count": null,
      "outputs": [
        {
          "output_type": "stream",
          "name": "stdout",
          "text": [
            "Enter something (type 'exit' to stop):hello\n",
            "Enter something (type 'exit' to stop):exit\n",
            "Goodbye\n"
          ]
        }
      ]
    },
    {
      "cell_type": "code",
      "source": [
        "grades = {\n",
        "    \"Alice\":85,\n",
        "    \"Bob\":92,\n",
        "    \"Charlie\":78,\n",
        "    \"Diana\":88\n",
        "}\n",
        "def update_grade(student_name, new_grade):\n",
        "  if student_name in grades:\n",
        "    grades[student_name] = new_grade\n",
        "    print(f\"Updated {student_name}'s grade to{new_grade}.\")\n",
        "  else:\n",
        "    print(f\"Student {student_name} not found in the list.\")\n",
        "update_grade(\"Bob\",95)\n",
        "update_grade(\"Eve\",80)\n"
      ],
      "metadata": {
        "colab": {
          "base_uri": "https://localhost:8080/"
        },
        "id": "gavKRdvg9hBd",
        "outputId": "ea30e611-da0b-47b0-e805-fbf4b9724340"
      },
      "execution_count": null,
      "outputs": [
        {
          "output_type": "stream",
          "name": "stdout",
          "text": [
            "Updated Bob's grade to95.\n",
            "Student Eve not found in the list.\n"
          ]
        }
      ]
    },
    {
      "cell_type": "code",
      "source": [
        "a= {1,2,3,4}\n",
        "b={3,4,5,6}\n",
        "intersection = a. intersection(b)\n",
        "union = a.union(b)\n",
        "print(\"Intersection:\", intersection)\n",
        "print(\"Union:\", union)"
      ],
      "metadata": {
        "colab": {
          "base_uri": "https://localhost:8080/"
        },
        "id": "oheTsFLu_vrQ",
        "outputId": "13ce7e2b-407b-4c70-83c9-02d4d26b054e"
      },
      "execution_count": null,
      "outputs": [
        {
          "output_type": "stream",
          "name": "stdout",
          "text": [
            "Intersection: {3, 4}\n",
            "Union: {1, 2, 3, 4, 5, 6}\n"
          ]
        }
      ]
    },
    {
      "cell_type": "code",
      "source": [
        "import math\n",
        "def calculate_area(shape, dimensions):\n",
        "  if shape.lower() ==\"circle\":\n",
        "    if len(dimensions) == 1:\n",
        "      radius = dimensions[0]\n",
        "      return math.pi * radius **2\n",
        "    else:\n",
        "      return \"Error: Circle requires 1 dimension (radius).\"\n",
        "  elif shape.lower() ==\"rectangle\":\n",
        "      if len(dimensions) == 2:\n",
        "        length, width = dimensions\n",
        "        return length * width\n",
        "      else:\n",
        "        return \"Error: Rectangle requires 2 dimension (length and width).\"\n",
        "  elif shape.lower() ==\"triangle\":\n",
        "      if len(dimensions) == 2:\n",
        "        base, height = dimensions\n",
        "        return base * height\n",
        "      else:\n",
        "        return \"Error: Triangle requires 2 dimension (base and height).\"\n",
        "  else:\n",
        "    return \"Error : unsupported shape.\"\n",
        "print (calculate_area(\"circle\",[5]))\n",
        "print (calculate_area(\"rectangle\",[4,6]))\n",
        "print (calculate_area(\"triangle\",[3,7]))\n",
        "print (calculate_area(\"hexagon\",[2]))\n",
        "\n"
      ],
      "metadata": {
        "colab": {
          "base_uri": "https://localhost:8080/"
        },
        "id": "dZv8Q58vA1ZL",
        "outputId": "02939ab2-6b89-4b18-9a92-611660a64c6a"
      },
      "execution_count": null,
      "outputs": [
        {
          "output_type": "stream",
          "name": "stdout",
          "text": [
            "78.53981633974483\n",
            "24\n",
            "21\n",
            "Error : unsupported shape.\n"
          ]
        }
      ]
    },
    {
      "cell_type": "markdown",
      "source": [
        "**Day 5**"
      ],
      "metadata": {
        "id": "Zx2Uu9J960GQ"
      }
    },
    {
      "cell_type": "code",
      "source": [
        "pip install gradio"
      ],
      "metadata": {
        "colab": {
          "base_uri": "https://localhost:8080/"
        },
        "id": "ZT0c4fa_WVhW",
        "outputId": "e456e8e9-ca4f-4131-cfd8-37b36151e1d3"
      },
      "execution_count": null,
      "outputs": [
        {
          "output_type": "stream",
          "name": "stdout",
          "text": [
            "Requirement already satisfied: gradio in /usr/local/lib/python3.10/dist-packages (5.4.0)\n",
            "Requirement already satisfied: aiofiles<24.0,>=22.0 in /usr/local/lib/python3.10/dist-packages (from gradio) (23.2.1)\n",
            "Requirement already satisfied: anyio<5.0,>=3.0 in /usr/local/lib/python3.10/dist-packages (from gradio) (3.7.1)\n",
            "Requirement already satisfied: fastapi<1.0,>=0.115.2 in /usr/local/lib/python3.10/dist-packages (from gradio) (0.115.3)\n",
            "Requirement already satisfied: ffmpy in /usr/local/lib/python3.10/dist-packages (from gradio) (0.4.0)\n",
            "Requirement already satisfied: gradio-client==1.4.2 in /usr/local/lib/python3.10/dist-packages (from gradio) (1.4.2)\n",
            "Requirement already satisfied: httpx>=0.24.1 in /usr/local/lib/python3.10/dist-packages (from gradio) (0.27.2)\n",
            "Requirement already satisfied: huggingface-hub>=0.25.1 in /usr/local/lib/python3.10/dist-packages (from gradio) (0.26.1)\n",
            "Requirement already satisfied: jinja2<4.0 in /usr/local/lib/python3.10/dist-packages (from gradio) (3.1.4)\n",
            "Requirement already satisfied: markupsafe~=2.0 in /usr/local/lib/python3.10/dist-packages (from gradio) (2.1.5)\n",
            "Requirement already satisfied: numpy<3.0,>=1.0 in /usr/local/lib/python3.10/dist-packages (from gradio) (1.26.4)\n",
            "Requirement already satisfied: orjson~=3.0 in /usr/local/lib/python3.10/dist-packages (from gradio) (3.10.10)\n",
            "Requirement already satisfied: packaging in /usr/local/lib/python3.10/dist-packages (from gradio) (24.1)\n",
            "Requirement already satisfied: pandas<3.0,>=1.0 in /usr/local/lib/python3.10/dist-packages (from gradio) (2.2.2)\n",
            "Requirement already satisfied: pillow<12.0,>=8.0 in /usr/local/lib/python3.10/dist-packages (from gradio) (10.4.0)\n",
            "Requirement already satisfied: pydantic>=2.0 in /usr/local/lib/python3.10/dist-packages (from gradio) (2.9.2)\n",
            "Requirement already satisfied: pydub in /usr/local/lib/python3.10/dist-packages (from gradio) (0.25.1)\n",
            "Requirement already satisfied: python-multipart==0.0.12 in /usr/local/lib/python3.10/dist-packages (from gradio) (0.0.12)\n",
            "Requirement already satisfied: pyyaml<7.0,>=5.0 in /usr/local/lib/python3.10/dist-packages (from gradio) (6.0.2)\n",
            "Requirement already satisfied: ruff>=0.2.2 in /usr/local/lib/python3.10/dist-packages (from gradio) (0.7.1)\n",
            "Requirement already satisfied: safehttpx<1.0,>=0.1.1 in /usr/local/lib/python3.10/dist-packages (from gradio) (0.1.1)\n",
            "Requirement already satisfied: semantic-version~=2.0 in /usr/local/lib/python3.10/dist-packages (from gradio) (2.10.0)\n",
            "Requirement already satisfied: starlette<1.0,>=0.40.0 in /usr/local/lib/python3.10/dist-packages (from gradio) (0.41.0)\n",
            "Requirement already satisfied: tomlkit==0.12.0 in /usr/local/lib/python3.10/dist-packages (from gradio) (0.12.0)\n",
            "Requirement already satisfied: typer<1.0,>=0.12 in /usr/local/lib/python3.10/dist-packages (from gradio) (0.12.5)\n",
            "Requirement already satisfied: typing-extensions~=4.0 in /usr/local/lib/python3.10/dist-packages (from gradio) (4.12.2)\n",
            "Requirement already satisfied: uvicorn>=0.14.0 in /usr/local/lib/python3.10/dist-packages (from gradio) (0.32.0)\n",
            "Requirement already satisfied: fsspec in /usr/local/lib/python3.10/dist-packages (from gradio-client==1.4.2->gradio) (2024.6.1)\n",
            "Requirement already satisfied: websockets<13.0,>=10.0 in /usr/local/lib/python3.10/dist-packages (from gradio-client==1.4.2->gradio) (12.0)\n",
            "Requirement already satisfied: idna>=2.8 in /usr/local/lib/python3.10/dist-packages (from anyio<5.0,>=3.0->gradio) (3.10)\n",
            "Requirement already satisfied: sniffio>=1.1 in /usr/local/lib/python3.10/dist-packages (from anyio<5.0,>=3.0->gradio) (1.3.1)\n",
            "Requirement already satisfied: exceptiongroup in /usr/local/lib/python3.10/dist-packages (from anyio<5.0,>=3.0->gradio) (1.2.2)\n",
            "Requirement already satisfied: certifi in /usr/local/lib/python3.10/dist-packages (from httpx>=0.24.1->gradio) (2024.8.30)\n",
            "Requirement already satisfied: httpcore==1.* in /usr/local/lib/python3.10/dist-packages (from httpx>=0.24.1->gradio) (1.0.6)\n",
            "Requirement already satisfied: h11<0.15,>=0.13 in /usr/local/lib/python3.10/dist-packages (from httpcore==1.*->httpx>=0.24.1->gradio) (0.14.0)\n",
            "Requirement already satisfied: filelock in /usr/local/lib/python3.10/dist-packages (from huggingface-hub>=0.25.1->gradio) (3.16.1)\n",
            "Requirement already satisfied: requests in /usr/local/lib/python3.10/dist-packages (from huggingface-hub>=0.25.1->gradio) (2.32.3)\n",
            "Requirement already satisfied: tqdm>=4.42.1 in /usr/local/lib/python3.10/dist-packages (from huggingface-hub>=0.25.1->gradio) (4.66.5)\n",
            "Requirement already satisfied: python-dateutil>=2.8.2 in /usr/local/lib/python3.10/dist-packages (from pandas<3.0,>=1.0->gradio) (2.8.2)\n",
            "Requirement already satisfied: pytz>=2020.1 in /usr/local/lib/python3.10/dist-packages (from pandas<3.0,>=1.0->gradio) (2024.2)\n",
            "Requirement already satisfied: tzdata>=2022.7 in /usr/local/lib/python3.10/dist-packages (from pandas<3.0,>=1.0->gradio) (2024.2)\n",
            "Requirement already satisfied: annotated-types>=0.6.0 in /usr/local/lib/python3.10/dist-packages (from pydantic>=2.0->gradio) (0.7.0)\n",
            "Requirement already satisfied: pydantic-core==2.23.4 in /usr/local/lib/python3.10/dist-packages (from pydantic>=2.0->gradio) (2.23.4)\n",
            "Requirement already satisfied: click>=8.0.0 in /usr/local/lib/python3.10/dist-packages (from typer<1.0,>=0.12->gradio) (8.1.7)\n",
            "Requirement already satisfied: shellingham>=1.3.0 in /usr/local/lib/python3.10/dist-packages (from typer<1.0,>=0.12->gradio) (1.5.4)\n",
            "Requirement already satisfied: rich>=10.11.0 in /usr/local/lib/python3.10/dist-packages (from typer<1.0,>=0.12->gradio) (13.9.3)\n",
            "Requirement already satisfied: six>=1.5 in /usr/local/lib/python3.10/dist-packages (from python-dateutil>=2.8.2->pandas<3.0,>=1.0->gradio) (1.16.0)\n",
            "Requirement already satisfied: markdown-it-py>=2.2.0 in /usr/local/lib/python3.10/dist-packages (from rich>=10.11.0->typer<1.0,>=0.12->gradio) (3.0.0)\n",
            "Requirement already satisfied: pygments<3.0.0,>=2.13.0 in /usr/local/lib/python3.10/dist-packages (from rich>=10.11.0->typer<1.0,>=0.12->gradio) (2.18.0)\n",
            "Requirement already satisfied: charset-normalizer<4,>=2 in /usr/local/lib/python3.10/dist-packages (from requests->huggingface-hub>=0.25.1->gradio) (3.4.0)\n",
            "Requirement already satisfied: urllib3<3,>=1.21.1 in /usr/local/lib/python3.10/dist-packages (from requests->huggingface-hub>=0.25.1->gradio) (2.2.3)\n",
            "Requirement already satisfied: mdurl~=0.1 in /usr/local/lib/python3.10/dist-packages (from markdown-it-py>=2.2.0->rich>=10.11.0->typer<1.0,>=0.12->gradio) (0.1.2)\n"
          ]
        }
      ]
    },
    {
      "cell_type": "code",
      "source": [
        "import gradio as gr"
      ],
      "metadata": {
        "id": "H0knJv5TWjNO"
      },
      "execution_count": null,
      "outputs": []
    },
    {
      "cell_type": "code",
      "source": [
        "def calc(a,b,op):\n",
        "   if op== 'Addition':\n",
        "    return f'the addition is{a+b}'\n",
        "   elif op== 'Subtraction':\n",
        "    return f'the Subtraction is{a-b}'\n",
        "   elif op== 'Multiplication':\n",
        "    return f'the Multiplication is{a*b}'\n",
        "   elif op== 'Divison':\n",
        "    return f'the Divison is{a/b}'\n",
        "\n"
      ],
      "metadata": {
        "id": "19C6JIThWpjw"
      },
      "execution_count": null,
      "outputs": []
    },
    {
      "cell_type": "code",
      "source": [
        "calc(34,65,'Addition')"
      ],
      "metadata": {
        "colab": {
          "base_uri": "https://localhost:8080/",
          "height": 36
        },
        "id": "Uf2NIcWxaDTx",
        "outputId": "62d9b574-924a-4bf3-b75f-4302f9992db8"
      },
      "execution_count": null,
      "outputs": [
        {
          "output_type": "execute_result",
          "data": {
            "text/plain": [
              "'the addition is99'"
            ],
            "application/vnd.google.colaboratory.intrinsic+json": {
              "type": "string"
            }
          },
          "metadata": {},
          "execution_count": 57
        }
      ]
    },
    {
      "cell_type": "code",
      "source": [
        "iface=gr.Interface(\n",
        "    fn=calc,\n",
        "    inputs=[gr.Number(label='Enter a'),gr.Number(label='Enter b'),gr.Radio(choices=['Addition' ,'Subtraction', 'Multiplication','Division'])],\n",
        "    outputs='text',\n",
        "    title='Simple calculator',\n",
        "    description='It calculates'\n",
        ")"
      ],
      "metadata": {
        "id": "VZa8FmDxb475"
      },
      "execution_count": null,
      "outputs": []
    },
    {
      "cell_type": "code",
      "source": [
        "iface.launch()"
      ],
      "metadata": {
        "colab": {
          "base_uri": "https://localhost:8080/",
          "height": 646
        },
        "id": "-u-DZY6acB9b",
        "outputId": "0ecfe251-3c2a-45f2-d6bc-da8e50d71d0c"
      },
      "execution_count": null,
      "outputs": [
        {
          "output_type": "stream",
          "name": "stdout",
          "text": [
            "Running Gradio in a Colab notebook requires sharing enabled. Automatically setting `share=True` (you can turn this off by setting `share=False` in `launch()` explicitly).\n",
            "\n",
            "Colab notebook detected. To show errors in colab notebook, set debug=True in launch()\n",
            "* Running on public URL: https://386e03af0237e14e5e.gradio.live\n",
            "\n",
            "This share link expires in 72 hours. For free permanent hosting and GPU upgrades, run `gradio deploy` from the terminal in the working directory to deploy to Hugging Face Spaces (https://huggingface.co/spaces)\n"
          ]
        },
        {
          "output_type": "display_data",
          "data": {
            "text/plain": [
              "<IPython.core.display.HTML object>"
            ],
            "text/html": [
              "<div><iframe src=\"https://386e03af0237e14e5e.gradio.live\" width=\"100%\" height=\"500\" allow=\"autoplay; camera; microphone; clipboard-read; clipboard-write;\" frameborder=\"0\" allowfullscreen></iframe></div>"
            ]
          },
          "metadata": {}
        },
        {
          "output_type": "execute_result",
          "data": {
            "text/plain": []
          },
          "metadata": {},
          "execution_count": 59
        }
      ]
    },
    {
      "cell_type": "code",
      "source": [
        "def hotel (main,mq,juice,jq):\n",
        "  bill=0\n",
        "  if(main=='fried rice'):\n",
        "    bill+=120*mq\n",
        "  elif(main=='biryani'):\n",
        "    bill+=150*mq\n",
        "  elif(main=='roti'):\n",
        "    bill+=70*mq\n",
        "  if(juice=='orange'):\n",
        "    bill+=40*jq\n",
        "  elif(juice=='apple'):\n",
        "    bill+=40*jq\n",
        "  t=f'Your total bill is {bill}'\n",
        "  v=gTTS(text=t,lang='en')\n",
        "  v.save('bill.mp3')\n",
        "  return bill,'bill.mp3'\n",
        "\n",
        "\n",
        "\n",
        "\n",
        "\n",
        "\n"
      ],
      "metadata": {
        "id": "zCtmF8YjcTC3"
      },
      "execution_count": null,
      "outputs": []
    },
    {
      "cell_type": "code",
      "source": [
        "pip install gtts\n"
      ],
      "metadata": {
        "colab": {
          "base_uri": "https://localhost:8080/"
        },
        "id": "4DzZp3I0gnNT",
        "outputId": "cf0ee4ad-735b-48f2-9237-9b68bd54c1f3"
      },
      "execution_count": null,
      "outputs": [
        {
          "output_type": "stream",
          "name": "stdout",
          "text": [
            "Collecting gtts\n",
            "  Downloading gTTS-2.5.3-py3-none-any.whl.metadata (4.1 kB)\n",
            "Requirement already satisfied: requests<3,>=2.27 in /usr/local/lib/python3.10/dist-packages (from gtts) (2.32.3)\n",
            "Requirement already satisfied: click<8.2,>=7.1 in /usr/local/lib/python3.10/dist-packages (from gtts) (8.1.7)\n",
            "Requirement already satisfied: charset-normalizer<4,>=2 in /usr/local/lib/python3.10/dist-packages (from requests<3,>=2.27->gtts) (3.4.0)\n",
            "Requirement already satisfied: idna<4,>=2.5 in /usr/local/lib/python3.10/dist-packages (from requests<3,>=2.27->gtts) (3.10)\n",
            "Requirement already satisfied: urllib3<3,>=1.21.1 in /usr/local/lib/python3.10/dist-packages (from requests<3,>=2.27->gtts) (2.2.3)\n",
            "Requirement already satisfied: certifi>=2017.4.17 in /usr/local/lib/python3.10/dist-packages (from requests<3,>=2.27->gtts) (2024.8.30)\n",
            "Downloading gTTS-2.5.3-py3-none-any.whl (29 kB)\n",
            "Installing collected packages: gtts\n",
            "Successfully installed gtts-2.5.3\n"
          ]
        }
      ]
    },
    {
      "cell_type": "code",
      "source": [
        "t='hello hitha, how are you'\n",
        "v=gTTS(text=t,lang='fr',slow=True)\n",
        "v.save('h.mp3')"
      ],
      "metadata": {
        "id": "SZeXcaOfgrzD"
      },
      "execution_count": null,
      "outputs": []
    },
    {
      "cell_type": "code",
      "source": [
        "from gtts import gTTS"
      ],
      "metadata": {
        "id": "LXxj8snnhQQn"
      },
      "execution_count": null,
      "outputs": []
    },
    {
      "cell_type": "code",
      "source": [
        "def calc(a,b,op):\n",
        "   if op== 'Addition':\n",
        "    return f'the addition is{a+b}'\n",
        "    v=gTTS(text=t,lang='en',)\n",
        "    v.save('add.mp3')\n",
        "   elif op== 'Subtraction':\n",
        "    return f'the Subtraction is{a-b}'\n",
        "    v=gTTS(text=t,lang='en',)\n",
        "    v.save('sub.mp3')\n",
        "   elif op== 'Multiplication':\n",
        "    return f'the Multiplication is{a*b}'\n",
        "    v=gTTS(text=t,lang='en',)\n",
        "    v.save('mul.mp3')\n",
        "   elif op== 'Divison':\n",
        "    return f'the Divison is{a/b}'\n",
        "    v=gTTS(text=t,lang='en',)\n",
        "    v.save('div.mp3')"
      ],
      "metadata": {
        "id": "wWdGb1ZyhXXG"
      },
      "execution_count": null,
      "outputs": []
    },
    {
      "cell_type": "code",
      "source": [
        "iface=gr.Interface(\n",
        "    fn=calc,\n",
        "    inputs=[gr.Number(label='Enter a'),gr.Number(label='Enter b'),gr.Radio(choices=['Addition' ,'Subtraction', 'Multiplication','Division'])],\n",
        "    outputs=[gr.Text(),gr.Audio()],\n",
        "    title='Simple calculator',\n",
        "    description='It calculates'\n",
        ")"
      ],
      "metadata": {
        "id": "LzYcsGemh6iO"
      },
      "execution_count": null,
      "outputs": []
    },
    {
      "cell_type": "code",
      "source": [
        "iface.launch()"
      ],
      "metadata": {
        "colab": {
          "base_uri": "https://localhost:8080/",
          "height": 646
        },
        "id": "W9rlKjGPh81_",
        "outputId": "2bf7061c-97e9-49b0-85fa-d1b812cf9d87"
      },
      "execution_count": null,
      "outputs": [
        {
          "output_type": "stream",
          "name": "stdout",
          "text": [
            "Running Gradio in a Colab notebook requires sharing enabled. Automatically setting `share=True` (you can turn this off by setting `share=False` in `launch()` explicitly).\n",
            "\n",
            "Colab notebook detected. To show errors in colab notebook, set debug=True in launch()\n",
            "* Running on public URL: https://aadda5a8715b333050.gradio.live\n",
            "\n",
            "This share link expires in 72 hours. For free permanent hosting and GPU upgrades, run `gradio deploy` from the terminal in the working directory to deploy to Hugging Face Spaces (https://huggingface.co/spaces)\n"
          ]
        },
        {
          "output_type": "display_data",
          "data": {
            "text/plain": [
              "<IPython.core.display.HTML object>"
            ],
            "text/html": [
              "<div><iframe src=\"https://aadda5a8715b333050.gradio.live\" width=\"100%\" height=\"500\" allow=\"autoplay; camera; microphone; clipboard-read; clipboard-write;\" frameborder=\"0\" allowfullscreen></iframe></div>"
            ]
          },
          "metadata": {}
        },
        {
          "output_type": "execute_result",
          "data": {
            "text/plain": []
          },
          "metadata": {},
          "execution_count": 67
        }
      ]
    },
    {
      "cell_type": "code",
      "source": [
        "def hotel (main,mq,juice,jq):\n",
        "  bill=0\n",
        "  if(main=='fried rice'):\n",
        "    bill+=120*mq\n",
        "  elif(main=='biryani'):\n",
        "    bill+=150*mq\n",
        "  elif(main=='roti'):\n",
        "    bill+=70*mq\n",
        "  if(juice=='orange'):\n",
        "    bill+=40*jq\n",
        "  elif(juice=='apple'):\n",
        "    bill+=40*jq\n",
        "  t=f'Your total bill is {bill}'\n",
        "  v=gTTS(text=t,lang='en')\n",
        "  v.save('bill.mp3')\n",
        "  return bill,'bill.mp3'\n"
      ],
      "metadata": {
        "id": "0wS5eI6oj3s1"
      },
      "execution_count": null,
      "outputs": []
    },
    {
      "cell_type": "code",
      "source": [
        "iface=gr.Interface(\n",
        "    fn=hotel,\n",
        "    inputs=[gr.Radio(choices=['fried rice','biryani','roti']),gr.Number(label='Enter the main  Quantity'),gr.Radio(choices=['orange','apple']),gr.Number(label='Enter Juice Quantity')],\n",
        "    outputs=[gr.Text(),gr.Audio()],\n",
        "    title='Hotel Billing System'\n",
        ")"
      ],
      "metadata": {
        "id": "ZTmq8T1lo9EE"
      },
      "execution_count": null,
      "outputs": []
    },
    {
      "cell_type": "code",
      "source": [
        "iface.launch()"
      ],
      "metadata": {
        "colab": {
          "base_uri": "https://localhost:8080/",
          "height": 646
        },
        "id": "Kq2RVaJFpVXK",
        "outputId": "5d373ba2-5547-4452-841d-51bd77a12903"
      },
      "execution_count": null,
      "outputs": [
        {
          "output_type": "stream",
          "name": "stdout",
          "text": [
            "Running Gradio in a Colab notebook requires sharing enabled. Automatically setting `share=True` (you can turn this off by setting `share=False` in `launch()` explicitly).\n",
            "\n",
            "Colab notebook detected. To show errors in colab notebook, set debug=True in launch()\n",
            "* Running on public URL: https://a1d584b5e2924510e2.gradio.live\n",
            "\n",
            "This share link expires in 72 hours. For free permanent hosting and GPU upgrades, run `gradio deploy` from the terminal in the working directory to deploy to Hugging Face Spaces (https://huggingface.co/spaces)\n"
          ]
        },
        {
          "output_type": "display_data",
          "data": {
            "text/plain": [
              "<IPython.core.display.HTML object>"
            ],
            "text/html": [
              "<div><iframe src=\"https://a1d584b5e2924510e2.gradio.live\" width=\"100%\" height=\"500\" allow=\"autoplay; camera; microphone; clipboard-read; clipboard-write;\" frameborder=\"0\" allowfullscreen></iframe></div>"
            ]
          },
          "metadata": {}
        },
        {
          "output_type": "execute_result",
          "data": {
            "text/plain": []
          },
          "metadata": {},
          "execution_count": 70
        }
      ]
    },
    {
      "cell_type": "markdown",
      "source": [
        "Libraries for Data Analytics\n",
        "\n",
        "\n",
        "*  Pandas (data analytics & reading the data)\n",
        "*   Numpy (numerical Python used for maths and stats in Data analytics)\n",
        "\n",
        "\n",
        "*  Mathplotlib (used for ploting the graphs and charts)\n",
        "\n",
        "*   seaborn (used for ploting the graphs and charts)\n",
        "*   Plotly (used for ploting the dynamic graphs and charts)\n",
        "\n",
        "  \n",
        "\n",
        "\n",
        "\n"
      ],
      "metadata": {
        "id": "94I1QCAm4fi-"
      }
    },
    {
      "cell_type": "code",
      "source": [
        "import numpy as np"
      ],
      "metadata": {
        "id": "gWgtUhC66BVF"
      },
      "execution_count": null,
      "outputs": []
    },
    {
      "cell_type": "code",
      "source": [
        "l=[1,2,3,4,5,5.6]\n",
        "arr=np.array(l)\n",
        "print(l)\n",
        "print(arr)"
      ],
      "metadata": {
        "colab": {
          "base_uri": "https://localhost:8080/"
        },
        "id": "xhjvnqFK6Iw0",
        "outputId": "82eface9-fc0d-40ba-8d20-9d5c09fba8ec"
      },
      "execution_count": null,
      "outputs": [
        {
          "output_type": "stream",
          "name": "stdout",
          "text": [
            "[1, 2, 3, 4, 5, 5.6]\n",
            "[1.  2.  3.  4.  5.  5.6]\n"
          ]
        }
      ]
    },
    {
      "cell_type": "markdown",
      "source": [
        "homogenous,\n",
        "ordered, indexed\n"
      ],
      "metadata": {
        "id": "iqmFXiwG7rIZ"
      }
    },
    {
      "cell_type": "code",
      "source": [
        "print(l*2)"
      ],
      "metadata": {
        "colab": {
          "base_uri": "https://localhost:8080/"
        },
        "id": "aGkGrDTh7-dr",
        "outputId": "ddaf0083-c8f5-4bf7-c83e-73a0966b0562"
      },
      "execution_count": null,
      "outputs": [
        {
          "output_type": "stream",
          "name": "stdout",
          "text": [
            "[1, 2, 3, 4, 5, 5.6, 'hey', 1, 2, 3, 4, 5, 5.6, 'hey']\n"
          ]
        }
      ]
    },
    {
      "cell_type": "markdown",
      "source": [
        "list is doubled"
      ],
      "metadata": {
        "id": "_hkw70ps9LR7"
      }
    },
    {
      "cell_type": "code",
      "source": [
        "print(arr*2)"
      ],
      "metadata": {
        "colab": {
          "base_uri": "https://localhost:8080/"
        },
        "id": "0AHm0Mzd-BCR",
        "outputId": "5c911819-47ea-4972-b643-f836764d4f60"
      },
      "execution_count": null,
      "outputs": [
        {
          "output_type": "stream",
          "name": "stdout",
          "text": [
            "[ 2.   4.   6.   8.  10.  11.2]\n"
          ]
        }
      ]
    },
    {
      "cell_type": "markdown",
      "source": [
        "in numpy the elements get doubled"
      ],
      "metadata": {
        "id": "SinoyrMr-c2p"
      }
    },
    {
      "cell_type": "code",
      "source": [
        "arr=np.array([12,45,23,6,23,14,56])\n",
        "arr"
      ],
      "metadata": {
        "colab": {
          "base_uri": "https://localhost:8080/"
        },
        "id": "Q6jTitmD9Jue",
        "outputId": "c1a95ca1-ed13-4e00-e4c9-9faf19faab71"
      },
      "execution_count": null,
      "outputs": [
        {
          "output_type": "execute_result",
          "data": {
            "text/plain": [
              "array([12, 45, 23,  6, 23, 14, 56])"
            ]
          },
          "metadata": {},
          "execution_count": 45
        }
      ]
    },
    {
      "cell_type": "code",
      "source": [
        "index=np.where(arr%2==0)"
      ],
      "metadata": {
        "id": "sIPs7msS-NO1"
      },
      "execution_count": null,
      "outputs": []
    },
    {
      "cell_type": "code",
      "source": [
        "arr[index]"
      ],
      "metadata": {
        "colab": {
          "base_uri": "https://localhost:8080/"
        },
        "id": "Tn_2xDGU-SpC",
        "outputId": "e7951f02-a2bd-4e9c-9060-02297a0ade5e"
      },
      "execution_count": null,
      "outputs": [
        {
          "output_type": "execute_result",
          "data": {
            "text/plain": [
              "array([12,  6, 14, 56])"
            ]
          },
          "metadata": {},
          "execution_count": 47
        }
      ]
    },
    {
      "cell_type": "code",
      "source": [
        "a=1 #scalar\n",
        "b=[1,2,3,4,5]#vector\n",
        "c=[[1,2,3],[4,5,6],[7,8,9]] #matrix\n"
      ],
      "metadata": {
        "id": "HByaqTc__xN3"
      },
      "execution_count": null,
      "outputs": []
    },
    {
      "cell_type": "code",
      "source": [
        "cm=np.array(c)\n",
        "cm"
      ],
      "metadata": {
        "colab": {
          "base_uri": "https://localhost:8080/"
        },
        "id": "WXlYrzvwAGyf",
        "outputId": "72415452-68bf-4e51-da6c-b3c566efae39"
      },
      "execution_count": null,
      "outputs": [
        {
          "output_type": "execute_result",
          "data": {
            "text/plain": [
              "array([[1, 2, 3],\n",
              "       [4, 5, 6],\n",
              "       [7, 8, 9]])"
            ]
          },
          "metadata": {},
          "execution_count": 51
        }
      ]
    },
    {
      "cell_type": "code",
      "source": [
        "a=np.array([1,21,312,42,56,6,7,8,9,10]).reshape((5,2))\n",
        "a"
      ],
      "metadata": {
        "colab": {
          "base_uri": "https://localhost:8080/"
        },
        "id": "HsSPUytnAMko",
        "outputId": "7bd3d5b9-9549-4964-ea64-2261ccdd5b1c"
      },
      "execution_count": null,
      "outputs": [
        {
          "output_type": "execute_result",
          "data": {
            "text/plain": [
              "array([[  1,  21],\n",
              "       [312,  42],\n",
              "       [ 56,   6],\n",
              "       [  7,   8],\n",
              "       [  9,  10]])"
            ]
          },
          "metadata": {},
          "execution_count": 52
        }
      ]
    },
    {
      "cell_type": "code",
      "source": [
        "sa=np.ravel(a)\n",
        "sa"
      ],
      "metadata": {
        "colab": {
          "base_uri": "https://localhost:8080/"
        },
        "id": "FWowC_yrAZOC",
        "outputId": "c652ea45-5725-44fd-f55f-54cd9b5a35e5"
      },
      "execution_count": null,
      "outputs": [
        {
          "output_type": "execute_result",
          "data": {
            "text/plain": [
              "array([  1,  21, 312,  42,  56,   6,   7,   8,   9,  10])"
            ]
          },
          "metadata": {},
          "execution_count": 53
        }
      ]
    },
    {
      "cell_type": "code",
      "source": [
        "a=np.array([1,21,312,42,56,6,7,8,9,10]).reshape((5,2))\n",
        "a.ndim"
      ],
      "metadata": {
        "colab": {
          "base_uri": "https://localhost:8080/"
        },
        "id": "dg3eTMBWBVWZ",
        "outputId": "0a73c864-6f8f-4f29-8104-2b8fc9afcac0"
      },
      "execution_count": null,
      "outputs": [
        {
          "output_type": "execute_result",
          "data": {
            "text/plain": [
              "2"
            ]
          },
          "metadata": {},
          "execution_count": 54
        }
      ]
    },
    {
      "cell_type": "code",
      "source": [
        "sa=np.ravel(a)\n",
        "sa.ndim"
      ],
      "metadata": {
        "colab": {
          "base_uri": "https://localhost:8080/"
        },
        "id": "HvatYoVyBcs-",
        "outputId": "1e185c5f-de4d-4792-ce88-049a2c76b05f"
      },
      "execution_count": null,
      "outputs": [
        {
          "output_type": "execute_result",
          "data": {
            "text/plain": [
              "1"
            ]
          },
          "metadata": {},
          "execution_count": 55
        }
      ]
    },
    {
      "cell_type": "code",
      "source": [
        "cm=np.array(c)\n",
        "cm.ndim"
      ],
      "metadata": {
        "colab": {
          "base_uri": "https://localhost:8080/"
        },
        "id": "PN3cJbCvBrz4",
        "outputId": "9d435c05-5507-4e35-d4c9-485e4e5081a9"
      },
      "execution_count": null,
      "outputs": [
        {
          "output_type": "execute_result",
          "data": {
            "text/plain": [
              "2"
            ]
          },
          "metadata": {},
          "execution_count": 56
        }
      ]
    },
    {
      "cell_type": "code",
      "source": [
        "type(sa)"
      ],
      "metadata": {
        "colab": {
          "base_uri": "https://localhost:8080/"
        },
        "id": "RG3UsoKoCPGD",
        "outputId": "9b198797-cffe-4292-cfbf-b4466d8616ab"
      },
      "execution_count": null,
      "outputs": [
        {
          "output_type": "execute_result",
          "data": {
            "text/plain": [
              "numpy.ndarray"
            ]
          },
          "metadata": {},
          "execution_count": 57
        }
      ]
    },
    {
      "cell_type": "markdown",
      "source": [
        "Pandas"
      ],
      "metadata": {
        "id": "ssifxZtxCZ1H"
      }
    },
    {
      "cell_type": "markdown",
      "source": [
        "2 types of datastructures\n",
        "\n",
        "*  series\n",
        "*   data frames"
      ],
      "metadata": {
        "id": "zBTADRADDQqr"
      }
    },
    {
      "cell_type": "code",
      "source": [
        "import pandas as pd"
      ],
      "metadata": {
        "id": "Kq9xj_LYEsFK"
      },
      "execution_count": null,
      "outputs": []
    },
    {
      "cell_type": "code",
      "source": [
        "l=[1,2,3,4,5,'hey']\n",
        "arr=np.array(l)\n",
        "s=pd.Series(l,index=['a','b','c','d','e','f'])\n",
        "df=pd.DataFrame(l,index=['a','b','c','d','e','f'],columns=['1st column'])\n",
        "print('l->',l)\n",
        "print('numpy arr->',arr)\n",
        "print('Series ->')\n",
        "print(s)\n",
        "print('Data Frame->')\n",
        "print(df)"
      ],
      "metadata": {
        "colab": {
          "base_uri": "https://localhost:8080/"
        },
        "id": "UM7-F2Z4CTbj",
        "outputId": "ae6d9beb-7f39-4d7e-c5f6-8a4ece280050"
      },
      "execution_count": null,
      "outputs": [
        {
          "output_type": "stream",
          "name": "stdout",
          "text": [
            "l-> [1, 2, 3, 4, 5, 'hey']\n",
            "numpy arr-> ['1' '2' '3' '4' '5' 'hey']\n",
            "Series ->\n",
            "a      1\n",
            "b      2\n",
            "c      3\n",
            "d      4\n",
            "e      5\n",
            "f    hey\n",
            "dtype: object\n",
            "Data Frame->\n",
            "  1st column\n",
            "a          1\n",
            "b          2\n",
            "c          3\n",
            "d          4\n",
            "e          5\n",
            "f        hey\n"
          ]
        }
      ]
    },
    {
      "cell_type": "code",
      "source": [
        "pb={\n",
        "    'Transaction Type':[],\n",
        "    'Transaction Amount':[],\n",
        "    'Balance':[]\n",
        "}"
      ],
      "metadata": {
        "id": "7tBso8MrFDvu"
      },
      "execution_count": null,
      "outputs": []
    },
    {
      "cell_type": "code",
      "source": [
        "pb['Transaction Type'].append('Withdraw')\n",
        "pb['Transaction Amount'].append(10000)\n",
        "pb['Balance'].append(16010)\n"
      ],
      "metadata": {
        "id": "CiSeGIJSFVCO"
      },
      "execution_count": null,
      "outputs": []
    },
    {
      "cell_type": "code",
      "source": [
        "pbk=pd.DataFrame(pb)\n",
        "pbk"
      ],
      "metadata": {
        "colab": {
          "base_uri": "https://localhost:8080/",
          "height": 89
        },
        "id": "9uoMZ3UZFnjC",
        "outputId": "057eea1f-aca4-4d98-d7c6-34e6697ac905"
      },
      "execution_count": null,
      "outputs": [
        {
          "output_type": "execute_result",
          "data": {
            "text/plain": [
              "  Transaction Type  Transaction Amount  Balance\n",
              "0         Withdraw               10000    16010"
            ],
            "text/html": [
              "\n",
              "  <div id=\"df-17a9b82b-d161-4e64-b3ae-ed7d814e5d7c\" class=\"colab-df-container\">\n",
              "    <div>\n",
              "<style scoped>\n",
              "    .dataframe tbody tr th:only-of-type {\n",
              "        vertical-align: middle;\n",
              "    }\n",
              "\n",
              "    .dataframe tbody tr th {\n",
              "        vertical-align: top;\n",
              "    }\n",
              "\n",
              "    .dataframe thead th {\n",
              "        text-align: right;\n",
              "    }\n",
              "</style>\n",
              "<table border=\"1\" class=\"dataframe\">\n",
              "  <thead>\n",
              "    <tr style=\"text-align: right;\">\n",
              "      <th></th>\n",
              "      <th>Transaction Type</th>\n",
              "      <th>Transaction Amount</th>\n",
              "      <th>Balance</th>\n",
              "    </tr>\n",
              "  </thead>\n",
              "  <tbody>\n",
              "    <tr>\n",
              "      <th>0</th>\n",
              "      <td>Withdraw</td>\n",
              "      <td>10000</td>\n",
              "      <td>16010</td>\n",
              "    </tr>\n",
              "  </tbody>\n",
              "</table>\n",
              "</div>\n",
              "    <div class=\"colab-df-buttons\">\n",
              "\n",
              "  <div class=\"colab-df-container\">\n",
              "    <button class=\"colab-df-convert\" onclick=\"convertToInteractive('df-17a9b82b-d161-4e64-b3ae-ed7d814e5d7c')\"\n",
              "            title=\"Convert this dataframe to an interactive table.\"\n",
              "            style=\"display:none;\">\n",
              "\n",
              "  <svg xmlns=\"http://www.w3.org/2000/svg\" height=\"24px\" viewBox=\"0 -960 960 960\">\n",
              "    <path d=\"M120-120v-720h720v720H120Zm60-500h600v-160H180v160Zm220 220h160v-160H400v160Zm0 220h160v-160H400v160ZM180-400h160v-160H180v160Zm440 0h160v-160H620v160ZM180-180h160v-160H180v160Zm440 0h160v-160H620v160Z\"/>\n",
              "  </svg>\n",
              "    </button>\n",
              "\n",
              "  <style>\n",
              "    .colab-df-container {\n",
              "      display:flex;\n",
              "      gap: 12px;\n",
              "    }\n",
              "\n",
              "    .colab-df-convert {\n",
              "      background-color: #E8F0FE;\n",
              "      border: none;\n",
              "      border-radius: 50%;\n",
              "      cursor: pointer;\n",
              "      display: none;\n",
              "      fill: #1967D2;\n",
              "      height: 32px;\n",
              "      padding: 0 0 0 0;\n",
              "      width: 32px;\n",
              "    }\n",
              "\n",
              "    .colab-df-convert:hover {\n",
              "      background-color: #E2EBFA;\n",
              "      box-shadow: 0px 1px 2px rgba(60, 64, 67, 0.3), 0px 1px 3px 1px rgba(60, 64, 67, 0.15);\n",
              "      fill: #174EA6;\n",
              "    }\n",
              "\n",
              "    .colab-df-buttons div {\n",
              "      margin-bottom: 4px;\n",
              "    }\n",
              "\n",
              "    [theme=dark] .colab-df-convert {\n",
              "      background-color: #3B4455;\n",
              "      fill: #D2E3FC;\n",
              "    }\n",
              "\n",
              "    [theme=dark] .colab-df-convert:hover {\n",
              "      background-color: #434B5C;\n",
              "      box-shadow: 0px 1px 3px 1px rgba(0, 0, 0, 0.15);\n",
              "      filter: drop-shadow(0px 1px 2px rgba(0, 0, 0, 0.3));\n",
              "      fill: #FFFFFF;\n",
              "    }\n",
              "  </style>\n",
              "\n",
              "    <script>\n",
              "      const buttonEl =\n",
              "        document.querySelector('#df-17a9b82b-d161-4e64-b3ae-ed7d814e5d7c button.colab-df-convert');\n",
              "      buttonEl.style.display =\n",
              "        google.colab.kernel.accessAllowed ? 'block' : 'none';\n",
              "\n",
              "      async function convertToInteractive(key) {\n",
              "        const element = document.querySelector('#df-17a9b82b-d161-4e64-b3ae-ed7d814e5d7c');\n",
              "        const dataTable =\n",
              "          await google.colab.kernel.invokeFunction('convertToInteractive',\n",
              "                                                    [key], {});\n",
              "        if (!dataTable) return;\n",
              "\n",
              "        const docLinkHtml = 'Like what you see? Visit the ' +\n",
              "          '<a target=\"_blank\" href=https://colab.research.google.com/notebooks/data_table.ipynb>data table notebook</a>'\n",
              "          + ' to learn more about interactive tables.';\n",
              "        element.innerHTML = '';\n",
              "        dataTable['output_type'] = 'display_data';\n",
              "        await google.colab.output.renderOutput(dataTable, element);\n",
              "        const docLink = document.createElement('div');\n",
              "        docLink.innerHTML = docLinkHtml;\n",
              "        element.appendChild(docLink);\n",
              "      }\n",
              "    </script>\n",
              "  </div>\n",
              "\n",
              "\n",
              "  <div id=\"id_5138c52d-3c30-414a-b46f-00f0e6d4bfdd\">\n",
              "    <style>\n",
              "      .colab-df-generate {\n",
              "        background-color: #E8F0FE;\n",
              "        border: none;\n",
              "        border-radius: 50%;\n",
              "        cursor: pointer;\n",
              "        display: none;\n",
              "        fill: #1967D2;\n",
              "        height: 32px;\n",
              "        padding: 0 0 0 0;\n",
              "        width: 32px;\n",
              "      }\n",
              "\n",
              "      .colab-df-generate:hover {\n",
              "        background-color: #E2EBFA;\n",
              "        box-shadow: 0px 1px 2px rgba(60, 64, 67, 0.3), 0px 1px 3px 1px rgba(60, 64, 67, 0.15);\n",
              "        fill: #174EA6;\n",
              "      }\n",
              "\n",
              "      [theme=dark] .colab-df-generate {\n",
              "        background-color: #3B4455;\n",
              "        fill: #D2E3FC;\n",
              "      }\n",
              "\n",
              "      [theme=dark] .colab-df-generate:hover {\n",
              "        background-color: #434B5C;\n",
              "        box-shadow: 0px 1px 3px 1px rgba(0, 0, 0, 0.15);\n",
              "        filter: drop-shadow(0px 1px 2px rgba(0, 0, 0, 0.3));\n",
              "        fill: #FFFFFF;\n",
              "      }\n",
              "    </style>\n",
              "    <button class=\"colab-df-generate\" onclick=\"generateWithVariable('pbk')\"\n",
              "            title=\"Generate code using this dataframe.\"\n",
              "            style=\"display:none;\">\n",
              "\n",
              "  <svg xmlns=\"http://www.w3.org/2000/svg\" height=\"24px\"viewBox=\"0 0 24 24\"\n",
              "       width=\"24px\">\n",
              "    <path d=\"M7,19H8.4L18.45,9,17,7.55,7,17.6ZM5,21V16.75L18.45,3.32a2,2,0,0,1,2.83,0l1.4,1.43a1.91,1.91,0,0,1,.58,1.4,1.91,1.91,0,0,1-.58,1.4L9.25,21ZM18.45,9,17,7.55Zm-12,3A5.31,5.31,0,0,0,4.9,8.1,5.31,5.31,0,0,0,1,6.5,5.31,5.31,0,0,0,4.9,4.9,5.31,5.31,0,0,0,6.5,1,5.31,5.31,0,0,0,8.1,4.9,5.31,5.31,0,0,0,12,6.5,5.46,5.46,0,0,0,6.5,12Z\"/>\n",
              "  </svg>\n",
              "    </button>\n",
              "    <script>\n",
              "      (() => {\n",
              "      const buttonEl =\n",
              "        document.querySelector('#id_5138c52d-3c30-414a-b46f-00f0e6d4bfdd button.colab-df-generate');\n",
              "      buttonEl.style.display =\n",
              "        google.colab.kernel.accessAllowed ? 'block' : 'none';\n",
              "\n",
              "      buttonEl.onclick = () => {\n",
              "        google.colab.notebook.generateWithVariable('pbk');\n",
              "      }\n",
              "      })();\n",
              "    </script>\n",
              "  </div>\n",
              "\n",
              "    </div>\n",
              "  </div>\n"
            ],
            "application/vnd.google.colaboratory.intrinsic+json": {
              "type": "dataframe",
              "variable_name": "pbk",
              "summary": "{\n  \"name\": \"pbk\",\n  \"rows\": 1,\n  \"fields\": [\n    {\n      \"column\": \"Transaction Type\",\n      \"properties\": {\n        \"dtype\": \"string\",\n        \"num_unique_values\": 1,\n        \"samples\": [\n          \"Withdraw\"\n        ],\n        \"semantic_type\": \"\",\n        \"description\": \"\"\n      }\n    },\n    {\n      \"column\": \"Transaction Amount\",\n      \"properties\": {\n        \"dtype\": \"number\",\n        \"std\": null,\n        \"min\": 10000,\n        \"max\": 10000,\n        \"num_unique_values\": 1,\n        \"samples\": [\n          10000\n        ],\n        \"semantic_type\": \"\",\n        \"description\": \"\"\n      }\n    },\n    {\n      \"column\": \"Balance\",\n      \"properties\": {\n        \"dtype\": \"number\",\n        \"std\": null,\n        \"min\": 16010,\n        \"max\": 16010,\n        \"num_unique_values\": 1,\n        \"samples\": [\n          16010\n        ],\n        \"semantic_type\": \"\",\n        \"description\": \"\"\n      }\n    }\n  ]\n}"
            }
          },
          "metadata": {},
          "execution_count": 63
        }
      ]
    }
  ]
}